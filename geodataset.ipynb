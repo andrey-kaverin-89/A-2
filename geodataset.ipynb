{
 "cells": [
  {
   "cell_type": "code",
   "execution_count": 76,
   "metadata": {},
   "outputs": [],
   "source": [
    "from functools import partial\n",
    "from geopy.geocoders import Nominatim\n",
    "from datetime import timedelta, datetime\n",
    "\n",
    "import random, pandas as pd\n",
    "import matplotlib.pyplot as plt"
   ]
  },
  {
   "cell_type": "code",
   "execution_count": 2,
   "metadata": {},
   "outputs": [],
   "source": [
    "geolocator = Nominatim(user_agent=\"a2\")\n",
    "geocode = partial(geolocator.geocode, language=\"ru\")"
   ]
  },
  {
   "cell_type": "code",
   "execution_count": 26,
   "metadata": {},
   "outputs": [],
   "source": [
    "df = pd.read_excel('dataset_streets.xlsx')\n",
    "df = df['Adress'].values.tolist()\n",
    "out = list()\n",
    "for elem in df:\n",
    "    kek = geocode(elem)\n",
    "    if kek is not None:\n",
    "        out.append([elem, kek[1][0], kek[1][1]])\n",
    "out = pd.DataFrame(out, columns=['adress','latitude','longtitude'])\n",
    "out.to_excel('dataset_streets_final.xlsx',index = False)"
   ]
  },
  {
   "cell_type": "code",
   "execution_count": 66,
   "metadata": {},
   "outputs": [],
   "source": [
    "weekrandom = [(80,120),(60,90),(55,80),(55,85),(65,100),(45,70),(45,70)]\n",
    "rapid = [0,0,0,0,0,0,0,0,0,0,0,1,1]\n",
    "order_type = [0,0,0,1,1,1,2,2,3,3,4]\n",
    "\n",
    "orders = list()\n",
    "list_adress = out.values.tolist()\n",
    "list_adress_from = random.sample(out.values.tolist(),25)\n",
    "for i,_ in enumerate(list_adress_from):\n",
    "    list_adress_from[i].append(random.choice(order_type))\n",
    "startdate = datetime.now() - timedelta(days=90)\n",
    "for i_date in range(61):\n",
    "    curdate = startdate + timedelta(days=i_date)\n",
    "    maxorders = random.randint(weekrandom[datetime.weekday(curdate)][0],weekrandom[datetime.weekday(curdate)][1])\n",
    "    for i_orders in range(maxorders+1):\n",
    "        kek = random.choice(list_adress_from)\n",
    "        while True:\n",
    "            lol = random.choice(list_adress)\n",
    "            if kek != lol:\n",
    "                break\n",
    "        orders.append([curdate,\\\n",
    "                       kek[0],kek[1],kek[2],\\\n",
    "                       lol[0],lol[1],lol[2],\\\n",
    "                       random.choice(rapid),kek[3],random.randint(300,5000),random.randint(0,1)\n",
    "                      ])\n",
    "        if orders[-1][8] == 0:\n",
    "            orders[-1][7] = 1\n",
    "orders = pd.DataFrame(orders,columns=['date',\\\n",
    "                                      'adress from','latitude from','longtitude from',\\\n",
    "                                      'adress to','latitude to','longtitude to',\\\n",
    "                                      'rapid','order_type','cost','cashed'\n",
    "                                     ])\n",
    "orders.to_excel('dataset_orders_final.xlsx',index = False)"
   ]
  },
  {
   "cell_type": "code",
   "execution_count": 102,
   "metadata": {},
   "outputs": [
    {
     "data": {
      "image/png": "[encoded data removed]",
      "text/plain": [
       "<Figure size 432x288 with 1 Axes>"
      ]
     },
     "metadata": {
      "needs_background": "light"
     },
     "output_type": "display_data"
    }
   ],
   "source": [
    "orders = pd.read_excel('dataset_orders_final_new.xlsx')\n",
    "\n",
    "clust_orders = orders[['latitude to','longtitude to','rapid']].copy()\n",
    "clust_orders = clust_orders[clust_orders['rapid'] == 0]\n",
    "clust_orders = clust_orders.drop(['rapid'], axis=1).reset_index(drop=True)\n",
    "clust_orders['latitude to'] = (clust_orders['latitude to'] - 55)*10\n",
    "clust_orders['longtitude to'] = (clust_orders['longtitude to'] - 38)*10\n",
    "\n",
    "# clust_orders\n",
    "plt.plot(clust_orders['latitude to'].values, clust_orders['longtitude to'].values, 'o', color='black');"
   ]
  }
 ],
 "metadata": {
  "kernelspec": {
   "display_name": "Python 3",
   "language": "python",
   "name": "python3"
  },
  "language_info": {
   "codemirror_mode": {
    "name": "ipython",
    "version": 3
   },
   "file_extension": ".py",
   "mimetype": "text/x-python",
   "name": "python",
   "nbconvert_exporter": "python",
   "pygments_lexer": "ipython3",
   "version": "3.7.6"
  }
 },
 "nbformat": 4,
 "nbformat_minor": 2
}
