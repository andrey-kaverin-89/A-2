{
 "cells": [
  {
   "cell_type": "code",
   "execution_count": 76,
   "metadata": {},
   "outputs": [],
   "source": [
    "from functools import partial\n",
    "from geopy.geocoders import Nominatim\n",
    "from datetime import timedelta, datetime\n",
    "\n",
    "from sklearn import datasets\n",
    "from sklearn.cluster import KMeans\n",
    "\n",
    "from scipy.cluster.hierarchy import linkage, dendrogram\n",
    "\n",
    "import random, pandas as pd\n",
    "import matplotlib.pyplot as plt"
   ]
  },
  {
   "cell_type": "code",
   "execution_count": 2,
   "metadata": {},
   "outputs": [],
   "source": [
    "geolocator = Nominatim(user_agent=\"a2\")"
   ]
  },
  {
   "cell_type": "code",
   "execution_count": 3,
   "metadata": {},
   "outputs": [],
   "source": [
    "geocode = partial(geolocator.geocode, language=\"ru\")"
   ]
  },
  {
   "cell_type": "raw",
   "metadata": {},
   "source": [
    "geocode('москва донская 6')"
   ]
  },
  {
   "cell_type": "raw",
   "metadata": {},
   "source": [
    "geocode('москва донская 6')[1]"
   ]
  },
  {
   "cell_type": "code",
   "execution_count": 26,
   "metadata": {},
   "outputs": [],
   "source": [
    "df = pd.read_excel('dataset_streets.xlsx')\n",
    "df = df['Adress'].values.tolist()\n",
    "out = list()\n",
    "for elem in df:\n",
    "    kek = geocode(elem)\n",
    "    if kek is not None:\n",
    "        out.append([elem, kek[1][0], kek[1][1]])\n",
    "out = pd.DataFrame(out, columns=['adress','latitude','longtitude'])\n",
    "out.to_excel('dataset_streets_final.xlsx',index = False)"
   ]
  },
  {
   "cell_type": "code",
   "execution_count": 66,
   "metadata": {},
   "outputs": [],
   "source": [
    "weekrandom = [(80,120),(60,90),(55,80),(55,85),(65,100),(45,70),(45,70)]\n",
    "rapid = [0,0,0,0,0,0,0,0,0,0,0,1,1]\n",
    "order_type = [0,0,0,1,1,1,2,2,3,3,4]\n",
    "\n",
    "orders = list()\n",
    "list_adress = out.values.tolist()\n",
    "list_adress_from = random.sample(out.values.tolist(),25)\n",
    "for i,_ in enumerate(list_adress_from):\n",
    "    list_adress_from[i].append(random.choice(order_type))\n",
    "startdate = datetime.now() - timedelta(days=90)\n",
    "for i_date in range(61):\n",
    "    curdate = startdate + timedelta(days=i_date)\n",
    "    maxorders = random.randint(weekrandom[datetime.weekday(curdate)][0],weekrandom[datetime.weekday(curdate)][1])\n",
    "    for i_orders in range(maxorders+1):\n",
    "        kek = random.choice(list_adress_from)\n",
    "        while True:\n",
    "            lol = random.choice(list_adress)\n",
    "            if kek != lol:\n",
    "                break\n",
    "        orders.append([curdate,\\\n",
    "                       kek[0],kek[1],kek[2],\\\n",
    "                       lol[0],lol[1],lol[2],\\\n",
    "                       random.choice(rapid),kek[3],random.randint(300,5000),random.randint(0,1)\n",
    "                      ])\n",
    "        if orders[-1][8] == 0:\n",
    "            orders[-1][7] = 1\n",
    "orders = pd.DataFrame(orders,columns=['date',\\\n",
    "                                      'adress from','latitude from','longtitude from',\\\n",
    "                                      'adress to','latitude to','longtitude to',\\\n",
    "                                      'rapid','order_type','cost','cashed'\n",
    "                                     ])\n",
    "orders.to_excel('dataset_orders_final.xlsx',index = False)"
   ]
  },
  {
   "cell_type": "code",
   "execution_count": 25,
   "metadata": {},
   "outputs": [],
   "source": [
    "# timedelta(days=1)\n",
    "# orders = "
   ]
  },
  {
   "cell_type": "code",
   "execution_count": null,
   "metadata": {},
   "outputs": [],
   "source": []
  },
  {
   "cell_type": "code",
   "execution_count": 109,
   "metadata": {},
   "outputs": [
    {
     "data": {
      "image/png": "[encoded data removed]",
      "text/plain": [
       "<Figure size 432x288 with 1 Axes>"
      ]
     },
     "metadata": {
      "needs_background": "light"
     },
     "output_type": "display_data"
    }
   ],
   "source": [
    "orders = pd.read_excel('dataset_orders_final_new.xlsx')\n",
    "\n",
    "clust_orders = orders[['latitude to','longtitude to','rapid']].copy()\n",
    "clust_orders = clust_orders[clust_orders['rapid'] == 0]\n",
    "clust_orders = clust_orders.drop(['rapid'], axis=1).reset_index()\n",
    "clust_orders['latitude to'] = (clust_orders['latitude to'] - 55)*10\n",
    "clust_orders['longtitude to'] = (clust_orders['longtitude to'] - 38)*10\n",
    "\n",
    "# clust_orders\n",
    "plt.plot(clust_orders['latitude to'].values, clust_orders['longtitude to'].values, 'o', color='black');"
   ]
  },
  {
   "cell_type": "code",
   "execution_count": 104,
   "metadata": {},
   "outputs": [
    {
     "data": {
      "image/png": "[encoded data removed]",
      "text/plain": [
       "<Figure size 432x288 with 1 Axes>"
      ]
     },
     "metadata": {
      "needs_background": "light"
     },
     "output_type": "display_data"
    }
   ],
   "source": [
    "\n",
    "# Извлекаем измерения как массив NumPy\n",
    "samples = clust_orders.values\n",
    "\n",
    "# Реализация иерархической кластеризации при помощи функции linkage\n",
    "mergings = linkage(samples, method='complete')\n",
    "\n",
    "# Строим дендрограмму, указав параметры удобные для отображения\n",
    "dendrogram(mergings,\n",
    "           leaf_rotation=90,\n",
    "           leaf_font_size=1,\n",
    "           )\n",
    "\n",
    "plt.show()"
   ]
  },
  {
   "cell_type": "code",
   "execution_count": 111,
   "metadata": {},
   "outputs": [
    {
     "data": {
      "image/png": "[encoded data removed]",
      "text/plain": [
       "<Figure size 432x288 with 1 Axes>"
      ]
     },
     "metadata": {
      "needs_background": "light"
     },
     "output_type": "display_data"
    }
   ],
   "source": [
    "plotlables = ['bo','go','ro','yo']\n",
    "\n",
    "# Извлекаем измерения как массив NumPy\n",
    "samples = clust_orders[['latitude to','longtitude to']].values\n",
    "\n",
    "# Описываем модель\n",
    "model = KMeans(n_clusters=3)\n",
    "\n",
    "# Проводим моделирование\n",
    "model.fit(samples)\n",
    "\n",
    "# Предсказание на всем наборе данных\n",
    "all_predictions = model.predict(samples)\n",
    "\n",
    "all_predictions = pd.DataFrame(all_predictions, columns=['clusters'])\n",
    "all_predictions['x'] = samples[:,0]\n",
    "all_predictions['y'] = samples[:,1]\n",
    "all_predictions['index'] = clust_orders['index']\n",
    "\n",
    "all_predictions[all_predictions['clusters'] == 1]\n",
    "\n",
    "for col in all_predictions.clusters.unique():\n",
    "    plt.plot(all_predictions[all_predictions['clusters'] == col]['x'].values,\\\n",
    "             all_predictions[all_predictions['clusters'] == col]['y'].values,\\\n",
    "             plotlables[int(col)])"
   ]
  },
  {
   "cell_type": "code",
   "execution_count": 113,
   "metadata": {},
   "outputs": [],
   "source": [
    "output = all_predictions.copy()\n",
    "output['x'] = output['x']/10+55\n",
    "output['y'] = output['y']/10+38\n",
    "output.to_excel('for_peresekator.xlsx',index=False)"
   ]
  },
  {
   "cell_type": "code",
   "execution_count": 110,
   "metadata": {},
   "outputs": [
    {
     "data": {
      "text/html": [
       "<div>\n",
       "<style scoped>\n",
       "    .dataframe tbody tr th:only-of-type {\n",
       "        vertical-align: middle;\n",
       "    }\n",
       "\n",
       "    .dataframe tbody tr th {\n",
       "        vertical-align: top;\n",
       "    }\n",
       "\n",
       "    .dataframe thead th {\n",
       "        text-align: right;\n",
       "    }\n",
       "</style>\n",
       "<table border=\"1\" class=\"dataframe\">\n",
       "  <thead>\n",
       "    <tr style=\"text-align: right;\">\n",
       "      <th></th>\n",
       "      <th>index</th>\n",
       "      <th>latitude to</th>\n",
       "      <th>longtitude to</th>\n",
       "    </tr>\n",
       "  </thead>\n",
       "  <tbody>\n",
       "    <tr>\n",
       "      <th>0</th>\n",
       "      <td>0</td>\n",
       "      <td>3.638781</td>\n",
       "      <td>10.433093</td>\n",
       "    </tr>\n",
       "    <tr>\n",
       "      <th>1</th>\n",
       "      <td>2</td>\n",
       "      <td>3.854115</td>\n",
       "      <td>10.320326</td>\n",
       "    </tr>\n",
       "    <tr>\n",
       "      <th>2</th>\n",
       "      <td>4</td>\n",
       "      <td>4.008636</td>\n",
       "      <td>10.395189</td>\n",
       "    </tr>\n",
       "    <tr>\n",
       "      <th>3</th>\n",
       "      <td>5</td>\n",
       "      <td>3.820610</td>\n",
       "      <td>9.965272</td>\n",
       "    </tr>\n",
       "    <tr>\n",
       "      <th>4</th>\n",
       "      <td>7</td>\n",
       "      <td>3.854115</td>\n",
       "      <td>10.320326</td>\n",
       "    </tr>\n",
       "    <tr>\n",
       "      <th>...</th>\n",
       "      <td>...</td>\n",
       "      <td>...</td>\n",
       "      <td>...</td>\n",
       "    </tr>\n",
       "    <tr>\n",
       "      <th>2940</th>\n",
       "      <td>4541</td>\n",
       "      <td>3.661068</td>\n",
       "      <td>10.233173</td>\n",
       "    </tr>\n",
       "    <tr>\n",
       "      <th>2941</th>\n",
       "      <td>4544</td>\n",
       "      <td>3.692505</td>\n",
       "      <td>10.409736</td>\n",
       "    </tr>\n",
       "    <tr>\n",
       "      <th>2942</th>\n",
       "      <td>4545</td>\n",
       "      <td>3.808508</td>\n",
       "      <td>10.147379</td>\n",
       "    </tr>\n",
       "    <tr>\n",
       "      <th>2943</th>\n",
       "      <td>4546</td>\n",
       "      <td>3.722213</td>\n",
       "      <td>10.325465</td>\n",
       "    </tr>\n",
       "    <tr>\n",
       "      <th>2944</th>\n",
       "      <td>4547</td>\n",
       "      <td>4.031425</td>\n",
       "      <td>10.413800</td>\n",
       "    </tr>\n",
       "  </tbody>\n",
       "</table>\n",
       "<p>2945 rows × 3 columns</p>\n",
       "</div>"
      ],
      "text/plain": [
       "      index  latitude to  longtitude to\n",
       "0         0     3.638781      10.433093\n",
       "1         2     3.854115      10.320326\n",
       "2         4     4.008636      10.395189\n",
       "3         5     3.820610       9.965272\n",
       "4         7     3.854115      10.320326\n",
       "...     ...          ...            ...\n",
       "2940   4541     3.661068      10.233173\n",
       "2941   4544     3.692505      10.409736\n",
       "2942   4545     3.808508      10.147379\n",
       "2943   4546     3.722213      10.325465\n",
       "2944   4547     4.031425      10.413800\n",
       "\n",
       "[2945 rows x 3 columns]"
      ]
     },
     "execution_count": 110,
     "metadata": {},
     "output_type": "execute_result"
    }
   ],
   "source": [
    "clust_orders"
   ]
  },
  {
   "cell_type": "code",
   "execution_count": 112,
   "metadata": {},
   "outputs": [
    {
     "data": {
      "text/html": [
       "<div>\n",
       "<style scoped>\n",
       "    .dataframe tbody tr th:only-of-type {\n",
       "        vertical-align: middle;\n",
       "    }\n",
       "\n",
       "    .dataframe tbody tr th {\n",
       "        vertical-align: top;\n",
       "    }\n",
       "\n",
       "    .dataframe thead th {\n",
       "        text-align: right;\n",
       "    }\n",
       "</style>\n",
       "<table border=\"1\" class=\"dataframe\">\n",
       "  <thead>\n",
       "    <tr style=\"text-align: right;\">\n",
       "      <th></th>\n",
       "      <th>clusters</th>\n",
       "      <th>x</th>\n",
       "      <th>y</th>\n",
       "      <th>index</th>\n",
       "    </tr>\n",
       "  </thead>\n",
       "  <tbody>\n",
       "    <tr>\n",
       "      <th>0</th>\n",
       "      <td>2</td>\n",
       "      <td>3.638781</td>\n",
       "      <td>10.433093</td>\n",
       "      <td>0</td>\n",
       "    </tr>\n",
       "    <tr>\n",
       "      <th>1</th>\n",
       "      <td>2</td>\n",
       "      <td>3.854115</td>\n",
       "      <td>10.320326</td>\n",
       "      <td>2</td>\n",
       "    </tr>\n",
       "    <tr>\n",
       "      <th>2</th>\n",
       "      <td>2</td>\n",
       "      <td>4.008636</td>\n",
       "      <td>10.395189</td>\n",
       "      <td>4</td>\n",
       "    </tr>\n",
       "    <tr>\n",
       "      <th>3</th>\n",
       "      <td>2</td>\n",
       "      <td>3.820610</td>\n",
       "      <td>9.965272</td>\n",
       "      <td>5</td>\n",
       "    </tr>\n",
       "    <tr>\n",
       "      <th>4</th>\n",
       "      <td>2</td>\n",
       "      <td>3.854115</td>\n",
       "      <td>10.320326</td>\n",
       "      <td>7</td>\n",
       "    </tr>\n",
       "    <tr>\n",
       "      <th>...</th>\n",
       "      <td>...</td>\n",
       "      <td>...</td>\n",
       "      <td>...</td>\n",
       "      <td>...</td>\n",
       "    </tr>\n",
       "    <tr>\n",
       "      <th>2940</th>\n",
       "      <td>2</td>\n",
       "      <td>3.661068</td>\n",
       "      <td>10.233173</td>\n",
       "      <td>4541</td>\n",
       "    </tr>\n",
       "    <tr>\n",
       "      <th>2941</th>\n",
       "      <td>2</td>\n",
       "      <td>3.692505</td>\n",
       "      <td>10.409736</td>\n",
       "      <td>4544</td>\n",
       "    </tr>\n",
       "    <tr>\n",
       "      <th>2942</th>\n",
       "      <td>2</td>\n",
       "      <td>3.808508</td>\n",
       "      <td>10.147379</td>\n",
       "      <td>4545</td>\n",
       "    </tr>\n",
       "    <tr>\n",
       "      <th>2943</th>\n",
       "      <td>2</td>\n",
       "      <td>3.722213</td>\n",
       "      <td>10.325465</td>\n",
       "      <td>4546</td>\n",
       "    </tr>\n",
       "    <tr>\n",
       "      <th>2944</th>\n",
       "      <td>2</td>\n",
       "      <td>4.031425</td>\n",
       "      <td>10.413800</td>\n",
       "      <td>4547</td>\n",
       "    </tr>\n",
       "  </tbody>\n",
       "</table>\n",
       "<p>2945 rows × 4 columns</p>\n",
       "</div>"
      ],
      "text/plain": [
       "      clusters         x          y  index\n",
       "0            2  3.638781  10.433093      0\n",
       "1            2  3.854115  10.320326      2\n",
       "2            2  4.008636  10.395189      4\n",
       "3            2  3.820610   9.965272      5\n",
       "4            2  3.854115  10.320326      7\n",
       "...        ...       ...        ...    ...\n",
       "2940         2  3.661068  10.233173   4541\n",
       "2941         2  3.692505  10.409736   4544\n",
       "2942         2  3.808508  10.147379   4545\n",
       "2943         2  3.722213  10.325465   4546\n",
       "2944         2  4.031425  10.413800   4547\n",
       "\n",
       "[2945 rows x 4 columns]"
      ]
     },
     "execution_count": 112,
     "metadata": {},
     "output_type": "execute_result"
    }
   ],
   "source": [
    "all_predictions"
   ]
  },
  {
   "cell_type": "code",
   "execution_count": null,
   "metadata": {},
   "outputs": [],
   "source": []
  },
  {
   "cell_type": "code",
   "execution_count": 148,
   "metadata": {},
   "outputs": [
    {
     "name": "stderr",
     "output_type": "stream",
     "text": [
      "/Users/andkaver/opt/anaconda3/envs/tflow/lib/python3.7/site-packages/sklearn/externals/joblib/__init__.py:15: FutureWarning: sklearn.externals.joblib is deprecated in 0.21 and will be removed in 0.23. Please import this functionality directly from joblib, which can be installed with: pip install joblib. If this warning is raised when loading pickled models, you may need to re-serialize those models with scikit-learn 0.21+.\n",
      "  warnings.warn(msg, category=FutureWarning)\n"
     ]
    }
   ],
   "source": [
    "from sklearn import ensemble as ensemble\n",
    "from sklearn.externals import joblib\n",
    "from sklearn.model_selection import GridSearchCV\n",
    "from sklearn.model_selection import train_test_split\n",
    "from sklearn.metrics import r2_score\n",
    "from sklearn.metrics import mean_absolute_error, explained_variance_score\n",
    "from sklearn.model_selection import train_test_split\n",
    "def mean_absolute_percentage_error(y_true, y_pred):\n",
    "    y_true, y_pred = np.array(y_true), np.array(y_pred)\n",
    "    return np.mean(np.abs((y_true - y_pred) / y_true)) * 100\n",
    "import math\n",
    "\n",
    "import numpy as np"
   ]
  },
  {
   "cell_type": "code",
   "execution_count": 149,
   "metadata": {},
   "outputs": [],
   "source": [
    "df = pd.read_excel('dataset_predict_orders.xlsx')\n",
    "df.loc[pd.isna(df['cluster']),['cluster']]=99"
   ]
  },
  {
   "cell_type": "code",
   "execution_count": 150,
   "metadata": {},
   "outputs": [
    {
     "data": {
      "text/html": [
       "<style  type=\"text/css\" >\n",
       "    #T_76988bf8_10d3_11eb_84a9_acde48001122row0_col0 {\n",
       "            background-color:  #b40426;\n",
       "            color:  #f1f1f1;\n",
       "        }    #T_76988bf8_10d3_11eb_84a9_acde48001122row0_col1 {\n",
       "            background-color:  #3b4cc0;\n",
       "            color:  #f1f1f1;\n",
       "        }    #T_76988bf8_10d3_11eb_84a9_acde48001122row0_col2 {\n",
       "            background-color:  #3b4cc0;\n",
       "            color:  #f1f1f1;\n",
       "        }    #T_76988bf8_10d3_11eb_84a9_acde48001122row0_col3 {\n",
       "            background-color:  #3b4cc0;\n",
       "            color:  #f1f1f1;\n",
       "        }    #T_76988bf8_10d3_11eb_84a9_acde48001122row1_col0 {\n",
       "            background-color:  #6c8ff1;\n",
       "            color:  #000000;\n",
       "        }    #T_76988bf8_10d3_11eb_84a9_acde48001122row1_col1 {\n",
       "            background-color:  #b40426;\n",
       "            color:  #f1f1f1;\n",
       "        }    #T_76988bf8_10d3_11eb_84a9_acde48001122row1_col2 {\n",
       "            background-color:  #b40426;\n",
       "            color:  #f1f1f1;\n",
       "        }    #T_76988bf8_10d3_11eb_84a9_acde48001122row1_col3 {\n",
       "            background-color:  #bed2f6;\n",
       "            color:  #000000;\n",
       "        }    #T_76988bf8_10d3_11eb_84a9_acde48001122row2_col0 {\n",
       "            background-color:  #6c8ff1;\n",
       "            color:  #000000;\n",
       "        }    #T_76988bf8_10d3_11eb_84a9_acde48001122row2_col1 {\n",
       "            background-color:  #b40426;\n",
       "            color:  #f1f1f1;\n",
       "        }    #T_76988bf8_10d3_11eb_84a9_acde48001122row2_col2 {\n",
       "            background-color:  #b40426;\n",
       "            color:  #f1f1f1;\n",
       "        }    #T_76988bf8_10d3_11eb_84a9_acde48001122row2_col3 {\n",
       "            background-color:  #c0d4f5;\n",
       "            color:  #000000;\n",
       "        }    #T_76988bf8_10d3_11eb_84a9_acde48001122row3_col0 {\n",
       "            background-color:  #3b4cc0;\n",
       "            color:  #f1f1f1;\n",
       "        }    #T_76988bf8_10d3_11eb_84a9_acde48001122row3_col1 {\n",
       "            background-color:  #96b7ff;\n",
       "            color:  #000000;\n",
       "        }    #T_76988bf8_10d3_11eb_84a9_acde48001122row3_col2 {\n",
       "            background-color:  #9abbff;\n",
       "            color:  #000000;\n",
       "        }    #T_76988bf8_10d3_11eb_84a9_acde48001122row3_col3 {\n",
       "            background-color:  #b40426;\n",
       "            color:  #f1f1f1;\n",
       "        }</style><table id=\"T_76988bf8_10d3_11eb_84a9_acde48001122\" ><thead>    <tr>        <th class=\"blank level0\" ></th>        <th class=\"col_heading level0 col0\" >weekday</th>        <th class=\"col_heading level0 col1\" >rapid</th>        <th class=\"col_heading level0 col2\" >cluster</th>        <th class=\"col_heading level0 col3\" >Total</th>    </tr></thead><tbody>\n",
       "                <tr>\n",
       "                        <th id=\"T_76988bf8_10d3_11eb_84a9_acde48001122level0_row0\" class=\"row_heading level0 row0\" >weekday</th>\n",
       "                        <td id=\"T_76988bf8_10d3_11eb_84a9_acde48001122row0_col0\" class=\"data row0 col0\" >1.000000</td>\n",
       "                        <td id=\"T_76988bf8_10d3_11eb_84a9_acde48001122row0_col1\" class=\"data row0 col1\" >0.009409</td>\n",
       "                        <td id=\"T_76988bf8_10d3_11eb_84a9_acde48001122row0_col2\" class=\"data row0 col2\" >0.009407</td>\n",
       "                        <td id=\"T_76988bf8_10d3_11eb_84a9_acde48001122row0_col3\" class=\"data row0 col3\" >-0.178378</td>\n",
       "            </tr>\n",
       "            <tr>\n",
       "                        <th id=\"T_76988bf8_10d3_11eb_84a9_acde48001122level0_row1\" class=\"row_heading level0 row1\" >rapid</th>\n",
       "                        <td id=\"T_76988bf8_10d3_11eb_84a9_acde48001122row1_col0\" class=\"data row1 col0\" >0.009409</td>\n",
       "                        <td id=\"T_76988bf8_10d3_11eb_84a9_acde48001122row1_col1\" class=\"data row1 col1\" >1.000000</td>\n",
       "                        <td id=\"T_76988bf8_10d3_11eb_84a9_acde48001122row1_col2\" class=\"data row1 col2\" >0.999859</td>\n",
       "                        <td id=\"T_76988bf8_10d3_11eb_84a9_acde48001122row1_col3\" class=\"data row1 col3\" >0.283997</td>\n",
       "            </tr>\n",
       "            <tr>\n",
       "                        <th id=\"T_76988bf8_10d3_11eb_84a9_acde48001122level0_row2\" class=\"row_heading level0 row2\" >cluster</th>\n",
       "                        <td id=\"T_76988bf8_10d3_11eb_84a9_acde48001122row2_col0\" class=\"data row2 col0\" >0.009407</td>\n",
       "                        <td id=\"T_76988bf8_10d3_11eb_84a9_acde48001122row2_col1\" class=\"data row2 col1\" >0.999859</td>\n",
       "                        <td id=\"T_76988bf8_10d3_11eb_84a9_acde48001122row2_col2\" class=\"data row2 col2\" >1.000000</td>\n",
       "                        <td id=\"T_76988bf8_10d3_11eb_84a9_acde48001122row2_col3\" class=\"data row2 col3\" >0.294204</td>\n",
       "            </tr>\n",
       "            <tr>\n",
       "                        <th id=\"T_76988bf8_10d3_11eb_84a9_acde48001122level0_row3\" class=\"row_heading level0 row3\" >Total</th>\n",
       "                        <td id=\"T_76988bf8_10d3_11eb_84a9_acde48001122row3_col0\" class=\"data row3 col0\" >-0.178378</td>\n",
       "                        <td id=\"T_76988bf8_10d3_11eb_84a9_acde48001122row3_col1\" class=\"data row3 col1\" >0.283997</td>\n",
       "                        <td id=\"T_76988bf8_10d3_11eb_84a9_acde48001122row3_col2\" class=\"data row3 col2\" >0.294204</td>\n",
       "                        <td id=\"T_76988bf8_10d3_11eb_84a9_acde48001122row3_col3\" class=\"data row3 col3\" >1.000000</td>\n",
       "            </tr>\n",
       "    </tbody></table>"
      ],
      "text/plain": [
       "<pandas.io.formats.style.Styler at 0x11fa4cd50>"
      ]
     },
     "execution_count": 150,
     "metadata": {},
     "output_type": "execute_result"
    }
   ],
   "source": [
    "corr=df.corr()\n",
    "corr.style.background_gradient(cmap='coolwarm')"
   ]
  },
  {
   "cell_type": "code",
   "execution_count": 151,
   "metadata": {},
   "outputs": [
    {
     "data": {
      "text/plain": [
       "(188, 47)"
      ]
     },
     "execution_count": 151,
     "metadata": {},
     "output_type": "execute_result"
    }
   ],
   "source": [
    "x=df.iloc[:,1:len(df.columns)-1]\n",
    "y=df.Total\n",
    "x_train, x_test, y_train, y_test = train_test_split(x, y, test_size=0.2)\n",
    "(len(y_train),len(y_test))"
   ]
  },
  {
   "cell_type": "code",
   "execution_count": 152,
   "metadata": {},
   "outputs": [
    {
     "name": "stdout",
     "output_type": "stream",
     "text": [
      "{'max_depth': 40, 'min_impurity_decrease': 0, 'min_samples_split': 2, 'n_estimators': 700, 'random_state': 42}\n",
      "0.8525230062440222\n",
      "CPU times: user 682 ms, sys: 10.1 ms, total: 692 ms\n",
      "Wall time: 1.61 s\n"
     ]
    }
   ],
   "source": [
    "%%time\n",
    "gridParams_RF={'max_depth':[40], # 16 40\n",
    "              'random_state':[42],\n",
    "              'n_estimators':[700],# 700 1000\n",
    "              'min_impurity_decrease':[0],\n",
    "              'min_samples_split':[2] # 2\n",
    "           }\n",
    "model_RF = ensemble.RandomForestRegressor()\n",
    "grid_RF = GridSearchCV(model_RF, gridParams_RF, cv=5,n_jobs=-1)\n",
    "grid_RF.fit(x_train, y_train)\n",
    "print(grid_RF.best_params_)\n",
    "print(grid_RF.best_score_)"
   ]
  },
  {
   "cell_type": "code",
   "execution_count": 153,
   "metadata": {},
   "outputs": [
    {
     "name": "stdout",
     "output_type": "stream",
     "text": [
      "0.887846126061616\n",
      "30.939239783064913\n",
      "3.8671980577409344\n",
      "0.88935008736232\n",
      "CPU times: user 816 ms, sys: 324 ms, total: 1.14 s\n",
      "Wall time: 947 ms\n"
     ]
    }
   ],
   "source": [
    "%%time\n",
    "rf=ensemble.RandomForestRegressor(**grid_RF.best_params_, n_jobs=-1)\n",
    "rf.fit(x_train,y_train)\n",
    "result_model=rf.predict(x_test)\n",
    "print(r2_score(y_test, result_model)) \n",
    "print(mean_absolute_percentage_error(y_test,result_model))\n",
    "print(mean_absolute_error(y_test, result_model))\n",
    "print(explained_variance_score(y_test, result_model)) "
   ]
  },
  {
   "cell_type": "code",
   "execution_count": 154,
   "metadata": {},
   "outputs": [
    {
     "name": "stdout",
     "output_type": "stream",
     "text": [
      "0.8994983994403536\n",
      "31.023947407567775\n",
      "3.4100430664112604\n",
      "0.8995667239283152\n"
     ]
    }
   ],
   "source": [
    "result_model_full=rf.predict(x)\n",
    "print(r2_score(y, result_model_full)) \n",
    "print(mean_absolute_percentage_error(y,result_model_full))\n",
    "print(mean_absolute_error(y, result_model_full))\n",
    "print(explained_variance_score(y, result_model_full)) "
   ]
  },
  {
   "cell_type": "code",
   "execution_count": 155,
   "metadata": {},
   "outputs": [
    {
     "data": {
      "image/png": "[encoded data removed]",
      "text/plain": [
       "<Figure size 1440x720 with 1 Axes>"
      ]
     },
     "metadata": {
      "needs_background": "light"
     },
     "output_type": "display_data"
    }
   ],
   "source": [
    "import matplotlib.pyplot as plt\n",
    "import seaborn as sns\n",
    "feature_imp = pd.DataFrame(sorted(zip(rf.feature_importances_*100, x.columns)), columns=['Value','Feature'])\n",
    "plt.figure(figsize=(20, 10))\n",
    "sns.barplot(x=\"Value\", y=\"Feature\", data=feature_imp.sort_values(by=\"Value\", ascending=False))\n",
    "plt.title('Random forest Features')\n",
    "plt.tight_layout()\n",
    "plt.show()"
   ]
  },
  {
   "cell_type": "code",
   "execution_count": 158,
   "metadata": {},
   "outputs": [
    {
     "data": {
      "text/plain": [
       "['prediction_orders.pkl']"
      ]
     },
     "execution_count": 158,
     "metadata": {},
     "output_type": "execute_result"
    }
   ],
   "source": [
    "joblib.dump(rf, 'prediction_orders.pkl') \n",
    "  "
   ]
  },
  {
   "cell_type": "code",
   "execution_count": null,
   "metadata": {},
   "outputs": [],
   "source": []
  },
  {
   "cell_type": "code",
   "execution_count": null,
   "metadata": {},
   "outputs": [],
   "source": []
  },
  {
   "cell_type": "code",
   "execution_count": null,
   "metadata": {},
   "outputs": [],
   "source": []
  },
  {
   "cell_type": "code",
   "execution_count": null,
   "metadata": {},
   "outputs": [],
   "source": []
  },
  {
   "cell_type": "code",
   "execution_count": 159,
   "metadata": {},
   "outputs": [
    {
     "data": {
      "text/plain": [
       "array([ 9.19783396,  1.49666543, 29.18849485, 19.1334025 , 15.55051848,\n",
       "        2.99318914, 50.56069802, 37.73594408, 13.7885635 ,  2.23067427,\n",
       "       35.16627402, 26.03605703,  8.11356313,  2.15470685, 29.64592562,\n",
       "       24.2613436 , 10.82620406,  1.85810693, 29.45222291, 20.67884156,\n",
       "       11.24223191,  3.31770487, 38.6280856 , 34.31033709,  8.38646578,\n",
       "       30.79863957, 22.48094453,  9.19783396,  1.49666543, 29.18849485,\n",
       "       19.1334025 , 15.55051848,  2.99318914, 50.56069802, 37.73594408,\n",
       "       13.7885635 ,  2.23067427, 35.16627402, 26.03605703,  8.11356313,\n",
       "        2.15470685, 29.64592562, 24.2613436 , 10.82620406,  1.85810693,\n",
       "       29.45222291, 20.67884156, 11.24223191,  3.31770487, 38.6280856 ,\n",
       "       34.31033709,  8.38646578, 30.79863957, 22.48094453,  9.19783396,\n",
       "        1.49666543, 29.18849485, 19.1334025 , 15.55051848, 50.56069802,\n",
       "       37.73594408, 13.7885635 ,  2.23067427, 35.16627402, 26.03605703,\n",
       "        8.11356313,  2.15470685, 29.64592562, 24.2613436 , 10.82620406,\n",
       "        1.85810693, 29.45222291, 20.67884156, 11.24223191,  3.31770487,\n",
       "       38.6280856 , 34.31033709,  8.38646578,  1.78731803, 30.79863957,\n",
       "       22.48094453,  9.19783396,  1.49666543, 29.18849485, 19.1334025 ,\n",
       "       15.55051848,  2.99318914, 50.56069802, 37.73594408, 13.7885635 ,\n",
       "        2.23067427, 35.16627402, 26.03605703,  8.11356313,  2.15470685,\n",
       "       29.64592562, 24.2613436 , 10.82620406,  1.85810693, 29.45222291,\n",
       "       20.67884156, 11.24223191,  3.31770487, 38.6280856 , 34.31033709,\n",
       "        8.38646578, 30.79863957, 22.48094453,  9.19783396,  1.49666543,\n",
       "       29.18849485, 19.1334025 , 15.55051848,  2.99318914, 50.56069802,\n",
       "       37.73594408, 13.7885635 ,  2.23067427, 35.16627402, 26.03605703,\n",
       "        8.11356313,  2.15470685, 29.64592562, 24.2613436 , 10.82620406,\n",
       "        1.85810693, 29.45222291, 20.67884156, 11.24223191,  3.31770487,\n",
       "       38.6280856 , 34.31033709,  8.38646578,  1.78731803, 30.79863957,\n",
       "       22.48094453,  9.19783396,  1.49666543, 29.18849485, 19.1334025 ,\n",
       "       15.55051848, 50.56069802, 37.73594408, 13.7885635 ,  2.23067427,\n",
       "       35.16627402, 26.03605703,  8.11356313,  2.15470685, 29.64592562,\n",
       "       24.2613436 , 10.82620406,  1.85810693, 29.45222291, 20.67884156,\n",
       "       11.24223191,  3.31770487, 38.6280856 , 34.31033709,  8.38646578,\n",
       "        1.78731803, 30.79863957, 22.48094453,  9.19783396,  1.49666543,\n",
       "       29.18849485, 19.1334025 , 15.55051848,  2.99318914, 50.56069802,\n",
       "       37.73594408, 13.7885635 ,  2.23067427, 35.16627402, 26.03605703,\n",
       "        8.11356313, 29.64592562, 24.2613436 , 10.82620406,  1.85810693,\n",
       "       29.45222291, 20.67884156, 11.24223191,  3.31770487, 38.6280856 ,\n",
       "       34.31033709,  8.38646578, 30.79863957, 22.48094453,  9.19783396,\n",
       "       29.18849485, 19.1334025 , 15.55051848,  2.99318914, 50.56069802,\n",
       "       37.73594408, 13.7885635 ,  2.23067427, 35.16627402, 26.03605703,\n",
       "        8.11356313,  2.15470685, 29.64592562, 24.2613436 , 10.82620406,\n",
       "        1.85810693, 29.45222291, 20.67884156, 11.24223191,  3.31770487,\n",
       "       38.6280856 , 34.31033709,  8.38646578,  1.78731803, 30.79863957,\n",
       "       22.48094453,  9.19783396, 29.18849485, 19.1334025 , 15.55051848,\n",
       "        2.99318914, 50.56069802, 37.73594408, 13.7885635 ,  2.23067427,\n",
       "       35.16627402, 26.03605703,  8.11356313,  2.15470685, 29.64592562,\n",
       "       24.2613436 , 10.82620406,  1.85810693, 29.45222291, 20.67884156])"
      ]
     },
     "execution_count": 159,
     "metadata": {},
     "output_type": "execute_result"
    }
   ],
   "source": [
    "knn_from_joblib = joblib.load('prediction_orders.pkl')  \n",
    "  \n",
    "# Use the loaded model to make predictions \n",
    "knn_from_joblib.predict(x)"
   ]
  },
  {
   "cell_type": "code",
   "execution_count": null,
   "metadata": {},
   "outputs": [],
   "source": []
  }
 ],
 "metadata": {
  "kernelspec": {
   "display_name": "Python 3",
   "language": "python",
   "name": "python3"
  },
  "language_info": {
   "codemirror_mode": {
    "name": "ipython",
    "version": 3
   },
   "file_extension": ".py",
   "mimetype": "text/x-python",
   "name": "python",
   "nbconvert_exporter": "python",
   "pygments_lexer": "ipython3",
   "version": "3.7.6"
  }
 },
 "nbformat": 4,
 "nbformat_minor": 2
}
