{
 "cells": [
  {
   "cell_type": "code",
   "execution_count": 1,
   "metadata": {},
   "outputs": [
    {
     "data": {
      "application/javascript": [
       "\n",
       "            setTimeout(function() {\n",
       "                var nbb_cell_id = 1;\n",
       "                var nbb_unformatted_code = \"%load_ext nb_black\";\n",
       "                var nbb_formatted_code = \"%load_ext nb_black\";\n",
       "                var nbb_cells = Jupyter.notebook.get_cells();\n",
       "                for (var i = 0; i < nbb_cells.length; ++i) {\n",
       "                    if (nbb_cells[i].input_prompt_number == nbb_cell_id) {\n",
       "                        if (nbb_cells[i].get_text() == nbb_unformatted_code) {\n",
       "                             nbb_cells[i].set_text(nbb_formatted_code);\n",
       "                        }\n",
       "                        break;\n",
       "                    }\n",
       "                }\n",
       "            }, 500);\n",
       "            "
      ],
      "text/plain": [
       "<IPython.core.display.Javascript object>"
      ]
     },
     "metadata": {},
     "output_type": "display_data"
    }
   ],
   "source": [
    "%load_ext nb_black"
   ]
  },
  {
   "cell_type": "markdown",
   "metadata": {},
   "source": [
    "Этот модуль должен:\n",
    "\n",
    "* получать список заказов\n",
    "* подбирать курьеров для заказа\n",
    "* подбирать для курьера заказы в радиусе n метров и/или из одной и той же категории\n",
    "\n"
   ]
  },
  {
   "cell_type": "code",
   "execution_count": 2,
   "metadata": {},
   "outputs": [
    {
     "data": {
      "application/javascript": [
       "\n",
       "            setTimeout(function() {\n",
       "                var nbb_cell_id = 2;\n",
       "                var nbb_unformatted_code = \"import pandas as pd\\nimport numpy as np\\n\\nimport random\\nfrom random import choice\";\n",
       "                var nbb_formatted_code = \"import pandas as pd\\nimport numpy as np\\n\\nimport random\\nfrom random import choice\";\n",
       "                var nbb_cells = Jupyter.notebook.get_cells();\n",
       "                for (var i = 0; i < nbb_cells.length; ++i) {\n",
       "                    if (nbb_cells[i].input_prompt_number == nbb_cell_id) {\n",
       "                        if (nbb_cells[i].get_text() == nbb_unformatted_code) {\n",
       "                             nbb_cells[i].set_text(nbb_formatted_code);\n",
       "                        }\n",
       "                        break;\n",
       "                    }\n",
       "                }\n",
       "            }, 500);\n",
       "            "
      ],
      "text/plain": [
       "<IPython.core.display.Javascript object>"
      ]
     },
     "metadata": {},
     "output_type": "display_data"
    }
   ],
   "source": [
    "import pandas as pd\n",
    "import numpy as np\n",
    "\n",
    "import random\n",
    "from random import choice"
   ]
  },
  {
   "cell_type": "code",
   "execution_count": 3,
   "metadata": {},
   "outputs": [
    {
     "data": {
      "text/plain": [
       "array([0])"
      ]
     },
     "execution_count": 3,
     "metadata": {},
     "output_type": "execute_result"
    },
    {
     "data": {
      "application/javascript": [
       "\n",
       "            setTimeout(function() {\n",
       "                var nbb_cell_id = 3;\n",
       "                var nbb_unformatted_code = \"np.arange(0, 1, 19)\";\n",
       "                var nbb_formatted_code = \"np.arange(0, 1, 19)\";\n",
       "                var nbb_cells = Jupyter.notebook.get_cells();\n",
       "                for (var i = 0; i < nbb_cells.length; ++i) {\n",
       "                    if (nbb_cells[i].input_prompt_number == nbb_cell_id) {\n",
       "                        if (nbb_cells[i].get_text() == nbb_unformatted_code) {\n",
       "                             nbb_cells[i].set_text(nbb_formatted_code);\n",
       "                        }\n",
       "                        break;\n",
       "                    }\n",
       "                }\n",
       "            }, 500);\n",
       "            "
      ],
      "text/plain": [
       "<IPython.core.display.Javascript object>"
      ]
     },
     "metadata": {},
     "output_type": "display_data"
    }
   ],
   "source": [
    "np.arange(0, 1, 19)"
   ]
  },
  {
   "cell_type": "code",
   "execution_count": 4,
   "metadata": {},
   "outputs": [
    {
     "data": {
      "application/javascript": [
       "\n",
       "            setTimeout(function() {\n",
       "                var nbb_cell_id = 4;\n",
       "                var nbb_unformatted_code = \"rating_choice = np.linspace(3, 5)\\n\\ncategories = np.arange(1, 5)\\n\\ncurrent_hub = np.arange(1, 4)\";\n",
       "                var nbb_formatted_code = \"rating_choice = np.linspace(3, 5)\\n\\ncategories = np.arange(1, 5)\\n\\ncurrent_hub = np.arange(1, 4)\";\n",
       "                var nbb_cells = Jupyter.notebook.get_cells();\n",
       "                for (var i = 0; i < nbb_cells.length; ++i) {\n",
       "                    if (nbb_cells[i].input_prompt_number == nbb_cell_id) {\n",
       "                        if (nbb_cells[i].get_text() == nbb_unformatted_code) {\n",
       "                             nbb_cells[i].set_text(nbb_formatted_code);\n",
       "                        }\n",
       "                        break;\n",
       "                    }\n",
       "                }\n",
       "            }, 500);\n",
       "            "
      ],
      "text/plain": [
       "<IPython.core.display.Javascript object>"
      ]
     },
     "metadata": {},
     "output_type": "display_data"
    }
   ],
   "source": [
    "rating_choice = np.linspace(3, 5)\n",
    "\n",
    "categories = np.arange(1, 5)\n",
    "\n",
    "current_hub = np.arange(1, 4)"
   ]
  },
  {
   "cell_type": "code",
   "execution_count": 5,
   "metadata": {},
   "outputs": [
    {
     "data": {
      "application/javascript": [
       "\n",
       "            setTimeout(function() {\n",
       "                var nbb_cell_id = 5;\n",
       "                var nbb_unformatted_code = \"couriers = pd.DataFrame(\\n    {\\n        \\\"courier_name\\\": [\\n            \\\"\\u041c\\u0438\\u0445\\u0430\\u0438\\u043b \\u041c\\u0438\\u0445\\u0430\\u0439\\u043b\\u043e\\u0432\\\",\\n            \\\"\\u0418\\u0432\\u0430\\u043d \\u0418\\u0432\\u0430\\u043d\\u043e\\u0432\\\",\\n            \\\"\\u0414\\u043c\\u0438\\u0442\\u0440\\u0438\\u0439 \\u0414\\u043c\\u0438\\u0442\\u0440\\u0438\\u0435\\u0432\\\",\\n            \\\"\\u0410\\u043d\\u0434\\u0440\\u0435\\u0439 \\u0410\\u043d\\u0434\\u0440\\u0435\\u0435\\u0432\\\",\\n            \\\"\\u0410\\u043b\\u0435\\u043a\\u0441\\u0430\\u043d\\u0434\\u0440 \\u0410\\u043b\\u0435\\u043a\\u0441\\u0430\\u043d\\u0434\\u0440\\u043e\\u0432\\\",\\n            \\\"\\u041f\\u0435\\u0442\\u0440 \\u041f\\u0435\\u0442\\u0440\\u043e\\u0432\\\",\\n            \\\"\\u0412\\u0430\\u0441\\u0438\\u043b\\u0438\\u0439 \\u0412\\u0430\\u0441\\u0438\\u043b\\u044c\\u0435\\u0432\\\",\\n            \\\"\\u0415\\u043b\\u0438\\u0437\\u0430\\u0432\\u0435\\u0442\\u0430 \\u0415\\u043b\\u0438\\u0437\\u0430\\u0432\\u0435\\u0442\\u043e\\u0432\\u0430\\\",\\n            \\\"\\u0410\\u043d\\u0430\\u0441\\u0442\\u0430\\u0441\\u0438\\u044f \\u0410\\u043d\\u0430\\u0441\\u0442\\u0430\\u0441\\u0438\\u0435\\u0432\\u0430\\\",\\n            \\\"\\u0410\\u0440\\u0438\\u043d\\u0430 \\u0410\\u0440\\u0438\\u043d\\u0438\\u043d\\u0430\\\",\\n            \\\"\\u041c\\u0430\\u0440\\u0438\\u044f \\u041c\\u0430\\u0440\\u0438\\u0435\\u0432\\u0430\\\",\\n            \\\"\\u041c\\u0430\\u0440\\u0438\\u043d\\u0430 \\u041c\\u0430\\u0440\\u0438\\u043d\\u043e\\u0432\\u0430\\\",\\n            \\\"\\u041f\\u043e\\u043b\\u0438\\u043d\\u0430 \\u041f\\u043e\\u043b\\u0438\\u043d\\u0438\\u043d\\u0430\\\",\\n            \\\"\\u041d\\u0438\\u043a\\u0438\\u0442\\u0430 \\u041d\\u0438\\u043a\\u0438\\u0442\\u044c\\u0435\\u0432\\\",\\n            \\\"\\u041b\\u0435\\u0432 \\u041b\\u044c\\u0432\\u043e\\u0432\\\",\\n            \\\"\\u0412\\u043b\\u0430\\u0434\\u0438\\u0441\\u043b\\u0430\\u0432 \\u0412\\u043b\\u0430\\u0434\\u0438\\u0441\\u043b\\u0430\\u0432\\u043e\\u0432\\\",\\n            \\\"\\u0412\\u043b\\u0430\\u0434\\u0438\\u043c\\u0438\\u0440 \\u0412\\u043b\\u0430\\u0434\\u0438\\u043c\\u0438\\u0440\\u043e\\u0432\\\",\\n        ],\\n        \\\"phone_number\\\": [78373658431 for i in range(17)],\\n        \\\"rating\\\": [choice(rating_choice) for i in range(17)],\\n        \\\"current_hub\\\": [choice(current_hub) for i in range(17)],\\n        # \\\"current_hub_coordinates\\\":\\n        \\\"allowed_categories\\\": [choice(categories) for i in range(17)],\\n        #'mean_speed': []\\n        \\\"orders_in_line\\\": 0,\\n        \\\"rapid\\\": [0 if i % 2 == 0 else 1 for i in range(17)],\\n        \\\"type\\\": [choice(current_hub) for i in range(17)],\\n    }\\n)\";\n",
       "                var nbb_formatted_code = \"couriers = pd.DataFrame(\\n    {\\n        \\\"courier_name\\\": [\\n            \\\"\\u041c\\u0438\\u0445\\u0430\\u0438\\u043b \\u041c\\u0438\\u0445\\u0430\\u0439\\u043b\\u043e\\u0432\\\",\\n            \\\"\\u0418\\u0432\\u0430\\u043d \\u0418\\u0432\\u0430\\u043d\\u043e\\u0432\\\",\\n            \\\"\\u0414\\u043c\\u0438\\u0442\\u0440\\u0438\\u0439 \\u0414\\u043c\\u0438\\u0442\\u0440\\u0438\\u0435\\u0432\\\",\\n            \\\"\\u0410\\u043d\\u0434\\u0440\\u0435\\u0439 \\u0410\\u043d\\u0434\\u0440\\u0435\\u0435\\u0432\\\",\\n            \\\"\\u0410\\u043b\\u0435\\u043a\\u0441\\u0430\\u043d\\u0434\\u0440 \\u0410\\u043b\\u0435\\u043a\\u0441\\u0430\\u043d\\u0434\\u0440\\u043e\\u0432\\\",\\n            \\\"\\u041f\\u0435\\u0442\\u0440 \\u041f\\u0435\\u0442\\u0440\\u043e\\u0432\\\",\\n            \\\"\\u0412\\u0430\\u0441\\u0438\\u043b\\u0438\\u0439 \\u0412\\u0430\\u0441\\u0438\\u043b\\u044c\\u0435\\u0432\\\",\\n            \\\"\\u0415\\u043b\\u0438\\u0437\\u0430\\u0432\\u0435\\u0442\\u0430 \\u0415\\u043b\\u0438\\u0437\\u0430\\u0432\\u0435\\u0442\\u043e\\u0432\\u0430\\\",\\n            \\\"\\u0410\\u043d\\u0430\\u0441\\u0442\\u0430\\u0441\\u0438\\u044f \\u0410\\u043d\\u0430\\u0441\\u0442\\u0430\\u0441\\u0438\\u0435\\u0432\\u0430\\\",\\n            \\\"\\u0410\\u0440\\u0438\\u043d\\u0430 \\u0410\\u0440\\u0438\\u043d\\u0438\\u043d\\u0430\\\",\\n            \\\"\\u041c\\u0430\\u0440\\u0438\\u044f \\u041c\\u0430\\u0440\\u0438\\u0435\\u0432\\u0430\\\",\\n            \\\"\\u041c\\u0430\\u0440\\u0438\\u043d\\u0430 \\u041c\\u0430\\u0440\\u0438\\u043d\\u043e\\u0432\\u0430\\\",\\n            \\\"\\u041f\\u043e\\u043b\\u0438\\u043d\\u0430 \\u041f\\u043e\\u043b\\u0438\\u043d\\u0438\\u043d\\u0430\\\",\\n            \\\"\\u041d\\u0438\\u043a\\u0438\\u0442\\u0430 \\u041d\\u0438\\u043a\\u0438\\u0442\\u044c\\u0435\\u0432\\\",\\n            \\\"\\u041b\\u0435\\u0432 \\u041b\\u044c\\u0432\\u043e\\u0432\\\",\\n            \\\"\\u0412\\u043b\\u0430\\u0434\\u0438\\u0441\\u043b\\u0430\\u0432 \\u0412\\u043b\\u0430\\u0434\\u0438\\u0441\\u043b\\u0430\\u0432\\u043e\\u0432\\\",\\n            \\\"\\u0412\\u043b\\u0430\\u0434\\u0438\\u043c\\u0438\\u0440 \\u0412\\u043b\\u0430\\u0434\\u0438\\u043c\\u0438\\u0440\\u043e\\u0432\\\",\\n        ],\\n        \\\"phone_number\\\": [78373658431 for i in range(17)],\\n        \\\"rating\\\": [choice(rating_choice) for i in range(17)],\\n        \\\"current_hub\\\": [choice(current_hub) for i in range(17)],\\n        # \\\"current_hub_coordinates\\\":\\n        \\\"allowed_categories\\\": [choice(categories) for i in range(17)],\\n        #'mean_speed': []\\n        \\\"orders_in_line\\\": 0,\\n        \\\"rapid\\\": [0 if i % 2 == 0 else 1 for i in range(17)],\\n        \\\"type\\\": [choice(current_hub) for i in range(17)],\\n    }\\n)\";\n",
       "                var nbb_cells = Jupyter.notebook.get_cells();\n",
       "                for (var i = 0; i < nbb_cells.length; ++i) {\n",
       "                    if (nbb_cells[i].input_prompt_number == nbb_cell_id) {\n",
       "                        if (nbb_cells[i].get_text() == nbb_unformatted_code) {\n",
       "                             nbb_cells[i].set_text(nbb_formatted_code);\n",
       "                        }\n",
       "                        break;\n",
       "                    }\n",
       "                }\n",
       "            }, 500);\n",
       "            "
      ],
      "text/plain": [
       "<IPython.core.display.Javascript object>"
      ]
     },
     "metadata": {},
     "output_type": "display_data"
    }
   ],
   "source": [
    "couriers = pd.DataFrame(\n",
    "    {\n",
    "        \"courier_name\": [\n",
    "            \"Михаил Михайлов\",\n",
    "            \"Иван Иванов\",\n",
    "            \"Дмитрий Дмитриев\",\n",
    "            \"Андрей Андреев\",\n",
    "            \"Александр Александров\",\n",
    "            \"Петр Петров\",\n",
    "            \"Василий Васильев\",\n",
    "            \"Елизавета Елизаветова\",\n",
    "            \"Анастасия Анастасиева\",\n",
    "            \"Арина Аринина\",\n",
    "            \"Мария Мариева\",\n",
    "            \"Марина Маринова\",\n",
    "            \"Полина Полинина\",\n",
    "            \"Никита Никитьев\",\n",
    "            \"Лев Львов\",\n",
    "            \"Владислав Владиславов\",\n",
    "            \"Владимир Владимиров\",\n",
    "        ],\n",
    "        \"phone_number\": [78373658431 for i in range(17)],\n",
    "        \"rating\": [choice(rating_choice) for i in range(17)],\n",
    "        \"current_hub\": [choice(current_hub) for i in range(17)],\n",
    "        # \"current_hub_coordinates\":\n",
    "        \"allowed_categories\": [choice(categories) for i in range(17)],\n",
    "        #'mean_speed': []\n",
    "        \"orders_in_line\": 0,\n",
    "        \"rapid\": [0 if i % 2 == 0 else 1 for i in range(17)],\n",
    "        \"type\": [choice(current_hub) for i in range(17)],\n",
    "    }\n",
    ")"
   ]
  },
  {
   "cell_type": "code",
   "execution_count": 6,
   "metadata": {},
   "outputs": [
    {
     "data": {
      "application/javascript": [
       "\n",
       "            setTimeout(function() {\n",
       "                var nbb_cell_id = 6;\n",
       "                var nbb_unformatted_code = \"couriers.current_hub = couriers.apply(\\n    lambda x: np.nan if x.rapid == 1 else x.current_hub, axis=1\\n)\";\n",
       "                var nbb_formatted_code = \"couriers.current_hub = couriers.apply(\\n    lambda x: np.nan if x.rapid == 1 else x.current_hub, axis=1\\n)\";\n",
       "                var nbb_cells = Jupyter.notebook.get_cells();\n",
       "                for (var i = 0; i < nbb_cells.length; ++i) {\n",
       "                    if (nbb_cells[i].input_prompt_number == nbb_cell_id) {\n",
       "                        if (nbb_cells[i].get_text() == nbb_unformatted_code) {\n",
       "                             nbb_cells[i].set_text(nbb_formatted_code);\n",
       "                        }\n",
       "                        break;\n",
       "                    }\n",
       "                }\n",
       "            }, 500);\n",
       "            "
      ],
      "text/plain": [
       "<IPython.core.display.Javascript object>"
      ]
     },
     "metadata": {},
     "output_type": "display_data"
    }
   ],
   "source": [
    "couriers.current_hub = couriers.apply(\n",
    "    lambda x: np.nan if x.rapid == 1 else x.current_hub, axis=1\n",
    ")"
   ]
  },
  {
   "cell_type": "code",
   "execution_count": 7,
   "metadata": {},
   "outputs": [
    {
     "data": {
      "text/html": [
       "<div>\n",
       "<style scoped>\n",
       "    .dataframe tbody tr th:only-of-type {\n",
       "        vertical-align: middle;\n",
       "    }\n",
       "\n",
       "    .dataframe tbody tr th {\n",
       "        vertical-align: top;\n",
       "    }\n",
       "\n",
       "    .dataframe thead th {\n",
       "        text-align: right;\n",
       "    }\n",
       "</style>\n",
       "<table border=\"1\" class=\"dataframe\">\n",
       "  <thead>\n",
       "    <tr style=\"text-align: right;\">\n",
       "      <th></th>\n",
       "      <th>courier_name</th>\n",
       "      <th>phone_number</th>\n",
       "      <th>rating</th>\n",
       "      <th>current_hub</th>\n",
       "      <th>allowed_categories</th>\n",
       "      <th>orders_in_line</th>\n",
       "      <th>rapid</th>\n",
       "      <th>type</th>\n",
       "    </tr>\n",
       "  </thead>\n",
       "  <tbody>\n",
       "    <tr>\n",
       "      <th>0</th>\n",
       "      <td>Михаил Михайлов</td>\n",
       "      <td>78373658431</td>\n",
       "      <td>3.122449</td>\n",
       "      <td>3.0</td>\n",
       "      <td>3</td>\n",
       "      <td>0</td>\n",
       "      <td>0</td>\n",
       "      <td>3</td>\n",
       "    </tr>\n",
       "    <tr>\n",
       "      <th>1</th>\n",
       "      <td>Иван Иванов</td>\n",
       "      <td>78373658431</td>\n",
       "      <td>3.489796</td>\n",
       "      <td>NaN</td>\n",
       "      <td>4</td>\n",
       "      <td>0</td>\n",
       "      <td>1</td>\n",
       "      <td>1</td>\n",
       "    </tr>\n",
       "    <tr>\n",
       "      <th>2</th>\n",
       "      <td>Дмитрий Дмитриев</td>\n",
       "      <td>78373658431</td>\n",
       "      <td>4.551020</td>\n",
       "      <td>2.0</td>\n",
       "      <td>3</td>\n",
       "      <td>0</td>\n",
       "      <td>0</td>\n",
       "      <td>2</td>\n",
       "    </tr>\n",
       "    <tr>\n",
       "      <th>3</th>\n",
       "      <td>Андрей Андреев</td>\n",
       "      <td>78373658431</td>\n",
       "      <td>4.020408</td>\n",
       "      <td>NaN</td>\n",
       "      <td>3</td>\n",
       "      <td>0</td>\n",
       "      <td>1</td>\n",
       "      <td>2</td>\n",
       "    </tr>\n",
       "    <tr>\n",
       "      <th>4</th>\n",
       "      <td>Александр Александров</td>\n",
       "      <td>78373658431</td>\n",
       "      <td>3.979592</td>\n",
       "      <td>3.0</td>\n",
       "      <td>3</td>\n",
       "      <td>0</td>\n",
       "      <td>0</td>\n",
       "      <td>1</td>\n",
       "    </tr>\n",
       "    <tr>\n",
       "      <th>5</th>\n",
       "      <td>Петр Петров</td>\n",
       "      <td>78373658431</td>\n",
       "      <td>4.510204</td>\n",
       "      <td>NaN</td>\n",
       "      <td>4</td>\n",
       "      <td>0</td>\n",
       "      <td>1</td>\n",
       "      <td>3</td>\n",
       "    </tr>\n",
       "    <tr>\n",
       "      <th>6</th>\n",
       "      <td>Василий Васильев</td>\n",
       "      <td>78373658431</td>\n",
       "      <td>4.020408</td>\n",
       "      <td>1.0</td>\n",
       "      <td>4</td>\n",
       "      <td>0</td>\n",
       "      <td>0</td>\n",
       "      <td>3</td>\n",
       "    </tr>\n",
       "    <tr>\n",
       "      <th>7</th>\n",
       "      <td>Елизавета Елизаветова</td>\n",
       "      <td>78373658431</td>\n",
       "      <td>4.836735</td>\n",
       "      <td>NaN</td>\n",
       "      <td>3</td>\n",
       "      <td>0</td>\n",
       "      <td>1</td>\n",
       "      <td>1</td>\n",
       "    </tr>\n",
       "    <tr>\n",
       "      <th>8</th>\n",
       "      <td>Анастасия Анастасиева</td>\n",
       "      <td>78373658431</td>\n",
       "      <td>3.693878</td>\n",
       "      <td>2.0</td>\n",
       "      <td>1</td>\n",
       "      <td>0</td>\n",
       "      <td>0</td>\n",
       "      <td>3</td>\n",
       "    </tr>\n",
       "    <tr>\n",
       "      <th>9</th>\n",
       "      <td>Арина Аринина</td>\n",
       "      <td>78373658431</td>\n",
       "      <td>4.836735</td>\n",
       "      <td>NaN</td>\n",
       "      <td>1</td>\n",
       "      <td>0</td>\n",
       "      <td>1</td>\n",
       "      <td>2</td>\n",
       "    </tr>\n",
       "    <tr>\n",
       "      <th>10</th>\n",
       "      <td>Мария Мариева</td>\n",
       "      <td>78373658431</td>\n",
       "      <td>4.591837</td>\n",
       "      <td>3.0</td>\n",
       "      <td>2</td>\n",
       "      <td>0</td>\n",
       "      <td>0</td>\n",
       "      <td>2</td>\n",
       "    </tr>\n",
       "    <tr>\n",
       "      <th>11</th>\n",
       "      <td>Марина Маринова</td>\n",
       "      <td>78373658431</td>\n",
       "      <td>3.571429</td>\n",
       "      <td>NaN</td>\n",
       "      <td>1</td>\n",
       "      <td>0</td>\n",
       "      <td>1</td>\n",
       "      <td>1</td>\n",
       "    </tr>\n",
       "    <tr>\n",
       "      <th>12</th>\n",
       "      <td>Полина Полинина</td>\n",
       "      <td>78373658431</td>\n",
       "      <td>4.469388</td>\n",
       "      <td>1.0</td>\n",
       "      <td>4</td>\n",
       "      <td>0</td>\n",
       "      <td>0</td>\n",
       "      <td>2</td>\n",
       "    </tr>\n",
       "    <tr>\n",
       "      <th>13</th>\n",
       "      <td>Никита Никитьев</td>\n",
       "      <td>78373658431</td>\n",
       "      <td>4.102041</td>\n",
       "      <td>NaN</td>\n",
       "      <td>3</td>\n",
       "      <td>0</td>\n",
       "      <td>1</td>\n",
       "      <td>1</td>\n",
       "    </tr>\n",
       "    <tr>\n",
       "      <th>14</th>\n",
       "      <td>Лев Львов</td>\n",
       "      <td>78373658431</td>\n",
       "      <td>4.183673</td>\n",
       "      <td>1.0</td>\n",
       "      <td>1</td>\n",
       "      <td>0</td>\n",
       "      <td>0</td>\n",
       "      <td>1</td>\n",
       "    </tr>\n",
       "    <tr>\n",
       "      <th>15</th>\n",
       "      <td>Владислав Владиславов</td>\n",
       "      <td>78373658431</td>\n",
       "      <td>3.775510</td>\n",
       "      <td>NaN</td>\n",
       "      <td>1</td>\n",
       "      <td>0</td>\n",
       "      <td>1</td>\n",
       "      <td>3</td>\n",
       "    </tr>\n",
       "    <tr>\n",
       "      <th>16</th>\n",
       "      <td>Владимир Владимиров</td>\n",
       "      <td>78373658431</td>\n",
       "      <td>3.571429</td>\n",
       "      <td>1.0</td>\n",
       "      <td>1</td>\n",
       "      <td>0</td>\n",
       "      <td>0</td>\n",
       "      <td>1</td>\n",
       "    </tr>\n",
       "  </tbody>\n",
       "</table>\n",
       "</div>"
      ],
      "text/plain": [
       "             courier_name  phone_number    rating  current_hub  \\\n",
       "0         Михаил Михайлов   78373658431  3.122449          3.0   \n",
       "1             Иван Иванов   78373658431  3.489796          NaN   \n",
       "2        Дмитрий Дмитриев   78373658431  4.551020          2.0   \n",
       "3          Андрей Андреев   78373658431  4.020408          NaN   \n",
       "4   Александр Александров   78373658431  3.979592          3.0   \n",
       "5             Петр Петров   78373658431  4.510204          NaN   \n",
       "6        Василий Васильев   78373658431  4.020408          1.0   \n",
       "7   Елизавета Елизаветова   78373658431  4.836735          NaN   \n",
       "8   Анастасия Анастасиева   78373658431  3.693878          2.0   \n",
       "9           Арина Аринина   78373658431  4.836735          NaN   \n",
       "10          Мария Мариева   78373658431  4.591837          3.0   \n",
       "11        Марина Маринова   78373658431  3.571429          NaN   \n",
       "12        Полина Полинина   78373658431  4.469388          1.0   \n",
       "13        Никита Никитьев   78373658431  4.102041          NaN   \n",
       "14              Лев Львов   78373658431  4.183673          1.0   \n",
       "15  Владислав Владиславов   78373658431  3.775510          NaN   \n",
       "16    Владимир Владимиров   78373658431  3.571429          1.0   \n",
       "\n",
       "    allowed_categories  orders_in_line  rapid  type  \n",
       "0                    3               0      0     3  \n",
       "1                    4               0      1     1  \n",
       "2                    3               0      0     2  \n",
       "3                    3               0      1     2  \n",
       "4                    3               0      0     1  \n",
       "5                    4               0      1     3  \n",
       "6                    4               0      0     3  \n",
       "7                    3               0      1     1  \n",
       "8                    1               0      0     3  \n",
       "9                    1               0      1     2  \n",
       "10                   2               0      0     2  \n",
       "11                   1               0      1     1  \n",
       "12                   4               0      0     2  \n",
       "13                   3               0      1     1  \n",
       "14                   1               0      0     1  \n",
       "15                   1               0      1     3  \n",
       "16                   1               0      0     1  "
      ]
     },
     "execution_count": 7,
     "metadata": {},
     "output_type": "execute_result"
    },
    {
     "data": {
      "application/javascript": [
       "\n",
       "            setTimeout(function() {\n",
       "                var nbb_cell_id = 7;\n",
       "                var nbb_unformatted_code = \"couriers\";\n",
       "                var nbb_formatted_code = \"couriers\";\n",
       "                var nbb_cells = Jupyter.notebook.get_cells();\n",
       "                for (var i = 0; i < nbb_cells.length; ++i) {\n",
       "                    if (nbb_cells[i].input_prompt_number == nbb_cell_id) {\n",
       "                        if (nbb_cells[i].get_text() == nbb_unformatted_code) {\n",
       "                             nbb_cells[i].set_text(nbb_formatted_code);\n",
       "                        }\n",
       "                        break;\n",
       "                    }\n",
       "                }\n",
       "            }, 500);\n",
       "            "
      ],
      "text/plain": [
       "<IPython.core.display.Javascript object>"
      ]
     },
     "metadata": {},
     "output_type": "display_data"
    }
   ],
   "source": [
    "couriers"
   ]
  },
  {
   "cell_type": "code",
   "execution_count": 8,
   "metadata": {},
   "outputs": [
    {
     "data": {
      "application/javascript": [
       "\n",
       "            setTimeout(function() {\n",
       "                var nbb_cell_id = 8;\n",
       "                var nbb_unformatted_code = \"from math import radians, cos, sin, asin, sqrt\\n\\n\\ndef haversine(lat1, lon1, lat2, lon2):\\n    \\\"\\\"\\\"\\n    Calculate the great circle distance between two points\\n    on the earth (specified in decimal degrees)\\n    \\\"\\\"\\\"\\n    # convert decimal degrees to radians\\n    lon1, lat1, lon2, lat2 = map(radians, [lon1, lat1, lon2, lat2])\\n    # haversine formula\\n    dlon = lon2 - lon1\\n    dlat = lat2 - lat1\\n    a = sin(dlat / 2) ** 2 + cos(lat1) * cos(lat2) * sin(dlon / 2) ** 2\\n    c = 2 * asin(sqrt(a))\\n    # Radius of earth in kilometers is 6371\\n    km = 6371 * c\\n    return km\";\n",
       "                var nbb_formatted_code = \"from math import radians, cos, sin, asin, sqrt\\n\\n\\ndef haversine(lat1, lon1, lat2, lon2):\\n    \\\"\\\"\\\"\\n    Calculate the great circle distance between two points\\n    on the earth (specified in decimal degrees)\\n    \\\"\\\"\\\"\\n    # convert decimal degrees to radians\\n    lon1, lat1, lon2, lat2 = map(radians, [lon1, lat1, lon2, lat2])\\n    # haversine formula\\n    dlon = lon2 - lon1\\n    dlat = lat2 - lat1\\n    a = sin(dlat / 2) ** 2 + cos(lat1) * cos(lat2) * sin(dlon / 2) ** 2\\n    c = 2 * asin(sqrt(a))\\n    # Radius of earth in kilometers is 6371\\n    km = 6371 * c\\n    return km\";\n",
       "                var nbb_cells = Jupyter.notebook.get_cells();\n",
       "                for (var i = 0; i < nbb_cells.length; ++i) {\n",
       "                    if (nbb_cells[i].input_prompt_number == nbb_cell_id) {\n",
       "                        if (nbb_cells[i].get_text() == nbb_unformatted_code) {\n",
       "                             nbb_cells[i].set_text(nbb_formatted_code);\n",
       "                        }\n",
       "                        break;\n",
       "                    }\n",
       "                }\n",
       "            }, 500);\n",
       "            "
      ],
      "text/plain": [
       "<IPython.core.display.Javascript object>"
      ]
     },
     "metadata": {},
     "output_type": "display_data"
    }
   ],
   "source": [
    "from math import radians, cos, sin, asin, sqrt\n",
    "\n",
    "\n",
    "def haversine(lat1, lon1, lat2, lon2):\n",
    "    \"\"\"\n",
    "    Calculate the great circle distance between two points\n",
    "    on the earth (specified in decimal degrees)\n",
    "    \"\"\"\n",
    "    # convert decimal degrees to radians\n",
    "    lon1, lat1, lon2, lat2 = map(radians, [lon1, lat1, lon2, lat2])\n",
    "    # haversine formula\n",
    "    dlon = lon2 - lon1\n",
    "    dlat = lat2 - lat1\n",
    "    a = sin(dlat / 2) ** 2 + cos(lat1) * cos(lat2) * sin(dlon / 2) ** 2\n",
    "    c = 2 * asin(sqrt(a))\n",
    "    # Radius of earth in kilometers is 6371\n",
    "    km = 6371 * c\n",
    "    return km"
   ]
  },
  {
   "cell_type": "code",
   "execution_count": 9,
   "metadata": {},
   "outputs": [
    {
     "data": {
      "application/javascript": [
       "\n",
       "            setTimeout(function() {\n",
       "                var nbb_cell_id = 9;\n",
       "                var nbb_unformatted_code = \"hubs = {0: [55.371665, 39.073222], 1: [55.470839, 39.080874], 2: [55.382143, 39.030079]}\";\n",
       "                var nbb_formatted_code = \"hubs = {0: [55.371665, 39.073222], 1: [55.470839, 39.080874], 2: [55.382143, 39.030079]}\";\n",
       "                var nbb_cells = Jupyter.notebook.get_cells();\n",
       "                for (var i = 0; i < nbb_cells.length; ++i) {\n",
       "                    if (nbb_cells[i].input_prompt_number == nbb_cell_id) {\n",
       "                        if (nbb_cells[i].get_text() == nbb_unformatted_code) {\n",
       "                             nbb_cells[i].set_text(nbb_formatted_code);\n",
       "                        }\n",
       "                        break;\n",
       "                    }\n",
       "                }\n",
       "            }, 500);\n",
       "            "
      ],
      "text/plain": [
       "<IPython.core.display.Javascript object>"
      ]
     },
     "metadata": {},
     "output_type": "display_data"
    }
   ],
   "source": [
    "hubs = {0: [55.371665, 39.073222], 1: [55.470839, 39.080874], 2: [55.382143, 39.030079]}"
   ]
  },
  {
   "cell_type": "code",
   "execution_count": 28,
   "metadata": {},
   "outputs": [
    {
     "ename": "FileNotFoundError",
     "evalue": "[Errno 2] No such file or directory: '/data/dataset_orders_final_new.xlsx'",
     "output_type": "error",
     "traceback": [
      "\u001b[0;31m---------------------------------------------------------------------------\u001b[0m",
      "\u001b[0;31mFileNotFoundError\u001b[0m                         Traceback (most recent call last)",
      "\u001b[0;32m<ipython-input-28-25203798cfe1>\u001b[0m in \u001b[0;36m<module>\u001b[0;34m\u001b[0m\n\u001b[0;32m----> 1\u001b[0;31m \u001b[0morders\u001b[0m \u001b[0;34m=\u001b[0m \u001b[0mpd\u001b[0m\u001b[0;34m.\u001b[0m\u001b[0mread_excel\u001b[0m\u001b[0;34m(\u001b[0m\u001b[0;34m\"/data/dataset_orders_final_new.xlsx\"\u001b[0m\u001b[0;34m)\u001b[0m\u001b[0;34m\u001b[0m\u001b[0;34m\u001b[0m\u001b[0m\n\u001b[0m",
      "\u001b[0;32m~/.local/lib/python3.7/site-packages/pandas/util/_decorators.py\u001b[0m in \u001b[0;36mwrapper\u001b[0;34m(*args, **kwargs)\u001b[0m\n\u001b[1;32m    294\u001b[0m                 )\n\u001b[1;32m    295\u001b[0m                 \u001b[0mwarnings\u001b[0m\u001b[0;34m.\u001b[0m\u001b[0mwarn\u001b[0m\u001b[0;34m(\u001b[0m\u001b[0mmsg\u001b[0m\u001b[0;34m,\u001b[0m \u001b[0mFutureWarning\u001b[0m\u001b[0;34m,\u001b[0m \u001b[0mstacklevel\u001b[0m\u001b[0;34m=\u001b[0m\u001b[0mstacklevel\u001b[0m\u001b[0;34m)\u001b[0m\u001b[0;34m\u001b[0m\u001b[0;34m\u001b[0m\u001b[0m\n\u001b[0;32m--> 296\u001b[0;31m             \u001b[0;32mreturn\u001b[0m \u001b[0mfunc\u001b[0m\u001b[0;34m(\u001b[0m\u001b[0;34m*\u001b[0m\u001b[0margs\u001b[0m\u001b[0;34m,\u001b[0m \u001b[0;34m**\u001b[0m\u001b[0mkwargs\u001b[0m\u001b[0;34m)\u001b[0m\u001b[0;34m\u001b[0m\u001b[0;34m\u001b[0m\u001b[0m\n\u001b[0m\u001b[1;32m    297\u001b[0m \u001b[0;34m\u001b[0m\u001b[0m\n\u001b[1;32m    298\u001b[0m         \u001b[0;32mreturn\u001b[0m \u001b[0mwrapper\u001b[0m\u001b[0;34m\u001b[0m\u001b[0;34m\u001b[0m\u001b[0m\n",
      "\u001b[0;32m~/.local/lib/python3.7/site-packages/pandas/io/excel/_base.py\u001b[0m in \u001b[0;36mread_excel\u001b[0;34m(io, sheet_name, header, names, index_col, usecols, squeeze, dtype, engine, converters, true_values, false_values, skiprows, nrows, na_values, keep_default_na, na_filter, verbose, parse_dates, date_parser, thousands, comment, skipfooter, convert_float, mangle_dupe_cols)\u001b[0m\n\u001b[1;32m    302\u001b[0m \u001b[0;34m\u001b[0m\u001b[0m\n\u001b[1;32m    303\u001b[0m     \u001b[0;32mif\u001b[0m \u001b[0;32mnot\u001b[0m \u001b[0misinstance\u001b[0m\u001b[0;34m(\u001b[0m\u001b[0mio\u001b[0m\u001b[0;34m,\u001b[0m \u001b[0mExcelFile\u001b[0m\u001b[0;34m)\u001b[0m\u001b[0;34m:\u001b[0m\u001b[0;34m\u001b[0m\u001b[0;34m\u001b[0m\u001b[0m\n\u001b[0;32m--> 304\u001b[0;31m         \u001b[0mio\u001b[0m \u001b[0;34m=\u001b[0m \u001b[0mExcelFile\u001b[0m\u001b[0;34m(\u001b[0m\u001b[0mio\u001b[0m\u001b[0;34m,\u001b[0m \u001b[0mengine\u001b[0m\u001b[0;34m=\u001b[0m\u001b[0mengine\u001b[0m\u001b[0;34m)\u001b[0m\u001b[0;34m\u001b[0m\u001b[0;34m\u001b[0m\u001b[0m\n\u001b[0m\u001b[1;32m    305\u001b[0m     \u001b[0;32melif\u001b[0m \u001b[0mengine\u001b[0m \u001b[0;32mand\u001b[0m \u001b[0mengine\u001b[0m \u001b[0;34m!=\u001b[0m \u001b[0mio\u001b[0m\u001b[0;34m.\u001b[0m\u001b[0mengine\u001b[0m\u001b[0;34m:\u001b[0m\u001b[0;34m\u001b[0m\u001b[0;34m\u001b[0m\u001b[0m\n\u001b[1;32m    306\u001b[0m         raise ValueError(\n",
      "\u001b[0;32m~/.local/lib/python3.7/site-packages/pandas/io/excel/_base.py\u001b[0m in \u001b[0;36m__init__\u001b[0;34m(self, path_or_buffer, engine)\u001b[0m\n\u001b[1;32m    865\u001b[0m         \u001b[0mself\u001b[0m\u001b[0;34m.\u001b[0m\u001b[0m_io\u001b[0m \u001b[0;34m=\u001b[0m \u001b[0mstringify_path\u001b[0m\u001b[0;34m(\u001b[0m\u001b[0mpath_or_buffer\u001b[0m\u001b[0;34m)\u001b[0m\u001b[0;34m\u001b[0m\u001b[0;34m\u001b[0m\u001b[0m\n\u001b[1;32m    866\u001b[0m \u001b[0;34m\u001b[0m\u001b[0m\n\u001b[0;32m--> 867\u001b[0;31m         \u001b[0mself\u001b[0m\u001b[0;34m.\u001b[0m\u001b[0m_reader\u001b[0m \u001b[0;34m=\u001b[0m \u001b[0mself\u001b[0m\u001b[0;34m.\u001b[0m\u001b[0m_engines\u001b[0m\u001b[0;34m[\u001b[0m\u001b[0mengine\u001b[0m\u001b[0;34m]\u001b[0m\u001b[0;34m(\u001b[0m\u001b[0mself\u001b[0m\u001b[0;34m.\u001b[0m\u001b[0m_io\u001b[0m\u001b[0;34m)\u001b[0m\u001b[0;34m\u001b[0m\u001b[0;34m\u001b[0m\u001b[0m\n\u001b[0m\u001b[1;32m    868\u001b[0m \u001b[0;34m\u001b[0m\u001b[0m\n\u001b[1;32m    869\u001b[0m     \u001b[0;32mdef\u001b[0m \u001b[0m__fspath__\u001b[0m\u001b[0;34m(\u001b[0m\u001b[0mself\u001b[0m\u001b[0;34m)\u001b[0m\u001b[0;34m:\u001b[0m\u001b[0;34m\u001b[0m\u001b[0;34m\u001b[0m\u001b[0m\n",
      "\u001b[0;32m~/.local/lib/python3.7/site-packages/pandas/io/excel/_xlrd.py\u001b[0m in \u001b[0;36m__init__\u001b[0;34m(self, filepath_or_buffer)\u001b[0m\n\u001b[1;32m     20\u001b[0m         \u001b[0merr_msg\u001b[0m \u001b[0;34m=\u001b[0m \u001b[0;34m\"Install xlrd >= 1.0.0 for Excel support\"\u001b[0m\u001b[0;34m\u001b[0m\u001b[0;34m\u001b[0m\u001b[0m\n\u001b[1;32m     21\u001b[0m         \u001b[0mimport_optional_dependency\u001b[0m\u001b[0;34m(\u001b[0m\u001b[0;34m\"xlrd\"\u001b[0m\u001b[0;34m,\u001b[0m \u001b[0mextra\u001b[0m\u001b[0;34m=\u001b[0m\u001b[0merr_msg\u001b[0m\u001b[0;34m)\u001b[0m\u001b[0;34m\u001b[0m\u001b[0;34m\u001b[0m\u001b[0m\n\u001b[0;32m---> 22\u001b[0;31m         \u001b[0msuper\u001b[0m\u001b[0;34m(\u001b[0m\u001b[0;34m)\u001b[0m\u001b[0;34m.\u001b[0m\u001b[0m__init__\u001b[0m\u001b[0;34m(\u001b[0m\u001b[0mfilepath_or_buffer\u001b[0m\u001b[0;34m)\u001b[0m\u001b[0;34m\u001b[0m\u001b[0;34m\u001b[0m\u001b[0m\n\u001b[0m\u001b[1;32m     23\u001b[0m \u001b[0;34m\u001b[0m\u001b[0m\n\u001b[1;32m     24\u001b[0m     \u001b[0;34m@\u001b[0m\u001b[0mproperty\u001b[0m\u001b[0;34m\u001b[0m\u001b[0;34m\u001b[0m\u001b[0m\n",
      "\u001b[0;32m~/.local/lib/python3.7/site-packages/pandas/io/excel/_base.py\u001b[0m in \u001b[0;36m__init__\u001b[0;34m(self, filepath_or_buffer)\u001b[0m\n\u001b[1;32m    351\u001b[0m             \u001b[0mself\u001b[0m\u001b[0;34m.\u001b[0m\u001b[0mbook\u001b[0m \u001b[0;34m=\u001b[0m \u001b[0mself\u001b[0m\u001b[0;34m.\u001b[0m\u001b[0mload_workbook\u001b[0m\u001b[0;34m(\u001b[0m\u001b[0mfilepath_or_buffer\u001b[0m\u001b[0;34m)\u001b[0m\u001b[0;34m\u001b[0m\u001b[0;34m\u001b[0m\u001b[0m\n\u001b[1;32m    352\u001b[0m         \u001b[0;32melif\u001b[0m \u001b[0misinstance\u001b[0m\u001b[0;34m(\u001b[0m\u001b[0mfilepath_or_buffer\u001b[0m\u001b[0;34m,\u001b[0m \u001b[0mstr\u001b[0m\u001b[0;34m)\u001b[0m\u001b[0;34m:\u001b[0m\u001b[0;34m\u001b[0m\u001b[0;34m\u001b[0m\u001b[0m\n\u001b[0;32m--> 353\u001b[0;31m             \u001b[0mself\u001b[0m\u001b[0;34m.\u001b[0m\u001b[0mbook\u001b[0m \u001b[0;34m=\u001b[0m \u001b[0mself\u001b[0m\u001b[0;34m.\u001b[0m\u001b[0mload_workbook\u001b[0m\u001b[0;34m(\u001b[0m\u001b[0mfilepath_or_buffer\u001b[0m\u001b[0;34m)\u001b[0m\u001b[0;34m\u001b[0m\u001b[0;34m\u001b[0m\u001b[0m\n\u001b[0m\u001b[1;32m    354\u001b[0m         \u001b[0;32melif\u001b[0m \u001b[0misinstance\u001b[0m\u001b[0;34m(\u001b[0m\u001b[0mfilepath_or_buffer\u001b[0m\u001b[0;34m,\u001b[0m \u001b[0mbytes\u001b[0m\u001b[0;34m)\u001b[0m\u001b[0;34m:\u001b[0m\u001b[0;34m\u001b[0m\u001b[0;34m\u001b[0m\u001b[0m\n\u001b[1;32m    355\u001b[0m             \u001b[0mself\u001b[0m\u001b[0;34m.\u001b[0m\u001b[0mbook\u001b[0m \u001b[0;34m=\u001b[0m \u001b[0mself\u001b[0m\u001b[0;34m.\u001b[0m\u001b[0mload_workbook\u001b[0m\u001b[0;34m(\u001b[0m\u001b[0mBytesIO\u001b[0m\u001b[0;34m(\u001b[0m\u001b[0mfilepath_or_buffer\u001b[0m\u001b[0;34m)\u001b[0m\u001b[0;34m)\u001b[0m\u001b[0;34m\u001b[0m\u001b[0;34m\u001b[0m\u001b[0m\n",
      "\u001b[0;32m~/.local/lib/python3.7/site-packages/pandas/io/excel/_xlrd.py\u001b[0m in \u001b[0;36mload_workbook\u001b[0;34m(self, filepath_or_buffer)\u001b[0m\n\u001b[1;32m     35\u001b[0m             \u001b[0;32mreturn\u001b[0m \u001b[0mopen_workbook\u001b[0m\u001b[0;34m(\u001b[0m\u001b[0mfile_contents\u001b[0m\u001b[0;34m=\u001b[0m\u001b[0mdata\u001b[0m\u001b[0;34m)\u001b[0m\u001b[0;34m\u001b[0m\u001b[0;34m\u001b[0m\u001b[0m\n\u001b[1;32m     36\u001b[0m         \u001b[0;32melse\u001b[0m\u001b[0;34m:\u001b[0m\u001b[0;34m\u001b[0m\u001b[0;34m\u001b[0m\u001b[0m\n\u001b[0;32m---> 37\u001b[0;31m             \u001b[0;32mreturn\u001b[0m \u001b[0mopen_workbook\u001b[0m\u001b[0;34m(\u001b[0m\u001b[0mfilepath_or_buffer\u001b[0m\u001b[0;34m)\u001b[0m\u001b[0;34m\u001b[0m\u001b[0;34m\u001b[0m\u001b[0m\n\u001b[0m\u001b[1;32m     38\u001b[0m \u001b[0;34m\u001b[0m\u001b[0m\n\u001b[1;32m     39\u001b[0m     \u001b[0;34m@\u001b[0m\u001b[0mproperty\u001b[0m\u001b[0;34m\u001b[0m\u001b[0;34m\u001b[0m\u001b[0m\n",
      "\u001b[0;32m~/.local/lib/python3.7/site-packages/xlrd/__init__.py\u001b[0m in \u001b[0;36mopen_workbook\u001b[0;34m(filename, logfile, verbosity, use_mmap, file_contents, encoding_override, formatting_info, on_demand, ragged_rows)\u001b[0m\n\u001b[1;32m    109\u001b[0m     \u001b[0;32melse\u001b[0m\u001b[0;34m:\u001b[0m\u001b[0;34m\u001b[0m\u001b[0;34m\u001b[0m\u001b[0m\n\u001b[1;32m    110\u001b[0m         \u001b[0mfilename\u001b[0m \u001b[0;34m=\u001b[0m \u001b[0mos\u001b[0m\u001b[0;34m.\u001b[0m\u001b[0mpath\u001b[0m\u001b[0;34m.\u001b[0m\u001b[0mexpanduser\u001b[0m\u001b[0;34m(\u001b[0m\u001b[0mfilename\u001b[0m\u001b[0;34m)\u001b[0m\u001b[0;34m\u001b[0m\u001b[0;34m\u001b[0m\u001b[0m\n\u001b[0;32m--> 111\u001b[0;31m         \u001b[0;32mwith\u001b[0m \u001b[0mopen\u001b[0m\u001b[0;34m(\u001b[0m\u001b[0mfilename\u001b[0m\u001b[0;34m,\u001b[0m \u001b[0;34m\"rb\"\u001b[0m\u001b[0;34m)\u001b[0m \u001b[0;32mas\u001b[0m \u001b[0mf\u001b[0m\u001b[0;34m:\u001b[0m\u001b[0;34m\u001b[0m\u001b[0;34m\u001b[0m\u001b[0m\n\u001b[0m\u001b[1;32m    112\u001b[0m             \u001b[0mpeek\u001b[0m \u001b[0;34m=\u001b[0m \u001b[0mf\u001b[0m\u001b[0;34m.\u001b[0m\u001b[0mread\u001b[0m\u001b[0;34m(\u001b[0m\u001b[0mpeeksz\u001b[0m\u001b[0;34m)\u001b[0m\u001b[0;34m\u001b[0m\u001b[0;34m\u001b[0m\u001b[0m\n\u001b[1;32m    113\u001b[0m     \u001b[0;32mif\u001b[0m \u001b[0mpeek\u001b[0m \u001b[0;34m==\u001b[0m \u001b[0;34mb\"PK\\x03\\x04\"\u001b[0m\u001b[0;34m:\u001b[0m \u001b[0;31m# a ZIP file\u001b[0m\u001b[0;34m\u001b[0m\u001b[0;34m\u001b[0m\u001b[0m\n",
      "\u001b[0;31mFileNotFoundError\u001b[0m: [Errno 2] No such file or directory: '/data/dataset_orders_final_new.xlsx'"
     ]
    },
    {
     "data": {
      "application/javascript": [
       "\n",
       "            setTimeout(function() {\n",
       "                var nbb_cell_id = 28;\n",
       "                var nbb_unformatted_code = \"orders = pd.read_excel(\\\"/data/dataset_orders_final_new.xlsx\\\")\";\n",
       "                var nbb_formatted_code = \"orders = pd.read_excel(\\\"/data/dataset_orders_final_new.xlsx\\\")\";\n",
       "                var nbb_cells = Jupyter.notebook.get_cells();\n",
       "                for (var i = 0; i < nbb_cells.length; ++i) {\n",
       "                    if (nbb_cells[i].input_prompt_number == nbb_cell_id) {\n",
       "                        if (nbb_cells[i].get_text() == nbb_unformatted_code) {\n",
       "                             nbb_cells[i].set_text(nbb_formatted_code);\n",
       "                        }\n",
       "                        break;\n",
       "                    }\n",
       "                }\n",
       "            }, 500);\n",
       "            "
      ],
      "text/plain": [
       "<IPython.core.display.Javascript object>"
      ]
     },
     "metadata": {},
     "output_type": "display_data"
    }
   ],
   "source": [
    "orders = pd.read_excel(\"/data/dataset_orders_final_new.xlsx\")"
   ]
  },
  {
   "cell_type": "code",
   "execution_count": 25,
   "metadata": {},
   "outputs": [
    {
     "data": {
      "text/html": [
       "<div>\n",
       "<style scoped>\n",
       "    .dataframe tbody tr th:only-of-type {\n",
       "        vertical-align: middle;\n",
       "    }\n",
       "\n",
       "    .dataframe tbody tr th {\n",
       "        vertical-align: top;\n",
       "    }\n",
       "\n",
       "    .dataframe thead th {\n",
       "        text-align: right;\n",
       "    }\n",
       "</style>\n",
       "<table border=\"1\" class=\"dataframe\">\n",
       "  <thead>\n",
       "    <tr style=\"text-align: right;\">\n",
       "      <th></th>\n",
       "      <th>latitude from</th>\n",
       "      <th>longtitude from</th>\n",
       "      <th>latitude to</th>\n",
       "      <th>longtitude to</th>\n",
       "      <th>rapid</th>\n",
       "      <th>order_type</th>\n",
       "      <th>cost</th>\n",
       "      <th>cashed</th>\n",
       "    </tr>\n",
       "  </thead>\n",
       "  <tbody>\n",
       "    <tr>\n",
       "      <th>0</th>\n",
       "      <td>55.380317</td>\n",
       "      <td>39.021655</td>\n",
       "      <td>55.363878</td>\n",
       "      <td>39.043309</td>\n",
       "      <td>0</td>\n",
       "      <td>1</td>\n",
       "      <td>3741</td>\n",
       "      <td>1</td>\n",
       "    </tr>\n",
       "    <tr>\n",
       "      <th>1</th>\n",
       "      <td>55.379765</td>\n",
       "      <td>39.051152</td>\n",
       "      <td>55.465594</td>\n",
       "      <td>39.053360</td>\n",
       "      <td>1</td>\n",
       "      <td>2</td>\n",
       "      <td>1402</td>\n",
       "      <td>0</td>\n",
       "    </tr>\n",
       "    <tr>\n",
       "      <th>2</th>\n",
       "      <td>55.380242</td>\n",
       "      <td>39.012773</td>\n",
       "      <td>55.385411</td>\n",
       "      <td>39.032033</td>\n",
       "      <td>0</td>\n",
       "      <td>1</td>\n",
       "      <td>694</td>\n",
       "      <td>1</td>\n",
       "    </tr>\n",
       "    <tr>\n",
       "      <th>3</th>\n",
       "      <td>55.378710</td>\n",
       "      <td>39.021465</td>\n",
       "      <td>55.383617</td>\n",
       "      <td>39.059115</td>\n",
       "      <td>1</td>\n",
       "      <td>2</td>\n",
       "      <td>2485</td>\n",
       "      <td>1</td>\n",
       "    </tr>\n",
       "    <tr>\n",
       "      <th>4</th>\n",
       "      <td>55.369176</td>\n",
       "      <td>39.023661</td>\n",
       "      <td>55.400864</td>\n",
       "      <td>39.039519</td>\n",
       "      <td>0</td>\n",
       "      <td>3</td>\n",
       "      <td>3726</td>\n",
       "      <td>0</td>\n",
       "    </tr>\n",
       "    <tr>\n",
       "      <th>...</th>\n",
       "      <td>...</td>\n",
       "      <td>...</td>\n",
       "      <td>...</td>\n",
       "      <td>...</td>\n",
       "      <td>...</td>\n",
       "      <td>...</td>\n",
       "      <td>...</td>\n",
       "      <td>...</td>\n",
       "    </tr>\n",
       "    <tr>\n",
       "      <th>4543</th>\n",
       "      <td>55.397313</td>\n",
       "      <td>39.042935</td>\n",
       "      <td>55.388530</td>\n",
       "      <td>39.037743</td>\n",
       "      <td>1</td>\n",
       "      <td>2</td>\n",
       "      <td>2556</td>\n",
       "      <td>0</td>\n",
       "    </tr>\n",
       "    <tr>\n",
       "      <th>4544</th>\n",
       "      <td>55.378710</td>\n",
       "      <td>39.021465</td>\n",
       "      <td>55.369250</td>\n",
       "      <td>39.040974</td>\n",
       "      <td>0</td>\n",
       "      <td>2</td>\n",
       "      <td>2021</td>\n",
       "      <td>1</td>\n",
       "    </tr>\n",
       "    <tr>\n",
       "      <th>4545</th>\n",
       "      <td>55.377347</td>\n",
       "      <td>39.085151</td>\n",
       "      <td>55.380851</td>\n",
       "      <td>39.014738</td>\n",
       "      <td>0</td>\n",
       "      <td>3</td>\n",
       "      <td>4594</td>\n",
       "      <td>0</td>\n",
       "    </tr>\n",
       "    <tr>\n",
       "      <th>4546</th>\n",
       "      <td>55.365701</td>\n",
       "      <td>39.051464</td>\n",
       "      <td>55.372221</td>\n",
       "      <td>39.032547</td>\n",
       "      <td>0</td>\n",
       "      <td>2</td>\n",
       "      <td>479</td>\n",
       "      <td>0</td>\n",
       "    </tr>\n",
       "    <tr>\n",
       "      <th>4547</th>\n",
       "      <td>55.369998</td>\n",
       "      <td>39.049032</td>\n",
       "      <td>55.403143</td>\n",
       "      <td>39.041380</td>\n",
       "      <td>0</td>\n",
       "      <td>1</td>\n",
       "      <td>4420</td>\n",
       "      <td>1</td>\n",
       "    </tr>\n",
       "  </tbody>\n",
       "</table>\n",
       "<p>4548 rows × 8 columns</p>\n",
       "</div>"
      ],
      "text/plain": [
       "      latitude from  longtitude from  latitude to  longtitude to  rapid  \\\n",
       "0         55.380317        39.021655    55.363878      39.043309      0   \n",
       "1         55.379765        39.051152    55.465594      39.053360      1   \n",
       "2         55.380242        39.012773    55.385411      39.032033      0   \n",
       "3         55.378710        39.021465    55.383617      39.059115      1   \n",
       "4         55.369176        39.023661    55.400864      39.039519      0   \n",
       "...             ...              ...          ...            ...    ...   \n",
       "4543      55.397313        39.042935    55.388530      39.037743      1   \n",
       "4544      55.378710        39.021465    55.369250      39.040974      0   \n",
       "4545      55.377347        39.085151    55.380851      39.014738      0   \n",
       "4546      55.365701        39.051464    55.372221      39.032547      0   \n",
       "4547      55.369998        39.049032    55.403143      39.041380      0   \n",
       "\n",
       "      order_type  cost  cashed  \n",
       "0              1  3741       1  \n",
       "1              2  1402       0  \n",
       "2              1   694       1  \n",
       "3              2  2485       1  \n",
       "4              3  3726       0  \n",
       "...          ...   ...     ...  \n",
       "4543           2  2556       0  \n",
       "4544           2  2021       1  \n",
       "4545           3  4594       0  \n",
       "4546           2   479       0  \n",
       "4547           1  4420       1  \n",
       "\n",
       "[4548 rows x 8 columns]"
      ]
     },
     "execution_count": 25,
     "metadata": {},
     "output_type": "execute_result"
    },
    {
     "data": {
      "application/javascript": [
       "\n",
       "            setTimeout(function() {\n",
       "                var nbb_cell_id = 25;\n",
       "                var nbb_unformatted_code = \"orders\";\n",
       "                var nbb_formatted_code = \"orders\";\n",
       "                var nbb_cells = Jupyter.notebook.get_cells();\n",
       "                for (var i = 0; i < nbb_cells.length; ++i) {\n",
       "                    if (nbb_cells[i].input_prompt_number == nbb_cell_id) {\n",
       "                        if (nbb_cells[i].get_text() == nbb_unformatted_code) {\n",
       "                             nbb_cells[i].set_text(nbb_formatted_code);\n",
       "                        }\n",
       "                        break;\n",
       "                    }\n",
       "                }\n",
       "            }, 500);\n",
       "            "
      ],
      "text/plain": [
       "<IPython.core.display.Javascript object>"
      ]
     },
     "metadata": {},
     "output_type": "display_data"
    }
   ],
   "source": [
    "orders"
   ]
  },
  {
   "cell_type": "code",
   "execution_count": 19,
   "metadata": {},
   "outputs": [
    {
     "data": {
      "application/javascript": [
       "\n",
       "            setTimeout(function() {\n",
       "                var nbb_cell_id = 19;\n",
       "                var nbb_unformatted_code = \"orders = orders.drop(columns=[\\\"date\\\", \\\"adress from\\\", \\\"adress to\\\"])\";\n",
       "                var nbb_formatted_code = \"orders = orders.drop(columns=[\\\"date\\\", \\\"adress from\\\", \\\"adress to\\\"])\";\n",
       "                var nbb_cells = Jupyter.notebook.get_cells();\n",
       "                for (var i = 0; i < nbb_cells.length; ++i) {\n",
       "                    if (nbb_cells[i].input_prompt_number == nbb_cell_id) {\n",
       "                        if (nbb_cells[i].get_text() == nbb_unformatted_code) {\n",
       "                             nbb_cells[i].set_text(nbb_formatted_code);\n",
       "                        }\n",
       "                        break;\n",
       "                    }\n",
       "                }\n",
       "            }, 500);\n",
       "            "
      ],
      "text/plain": [
       "<IPython.core.display.Javascript object>"
      ]
     },
     "metadata": {},
     "output_type": "display_data"
    }
   ],
   "source": [
    "orders = orders.drop(columns=[\"date\", \"adress from\", \"adress to\"])"
   ]
  },
  {
   "cell_type": "code",
   "execution_count": 26,
   "metadata": {},
   "outputs": [
    {
     "data": {
      "application/javascript": [
       "\n",
       "            setTimeout(function() {\n",
       "                var nbb_cell_id = 26;\n",
       "                var nbb_unformatted_code = \"def selection(order, couriers):\\n    if order.rapid == 1:\\n        selected_couriers = couriers[couriers.rapid == 1]\\n    else:\\n        selected_couriers = couriers[couriers.rapid == 0]\\n    \\n    selected_couriers = selected_couriers[selected_couriers.allowed_categories == order.order_type]\\n    return selected_couriers\";\n",
       "                var nbb_formatted_code = \"def selection(order, couriers):\\n    if order.rapid == 1:\\n        selected_couriers = couriers[couriers.rapid == 1]\\n    else:\\n        selected_couriers = couriers[couriers.rapid == 0]\\n\\n    selected_couriers = selected_couriers[\\n        selected_couriers.allowed_categories == order.order_type\\n    ]\\n    return selected_couriers\";\n",
       "                var nbb_cells = Jupyter.notebook.get_cells();\n",
       "                for (var i = 0; i < nbb_cells.length; ++i) {\n",
       "                    if (nbb_cells[i].input_prompt_number == nbb_cell_id) {\n",
       "                        if (nbb_cells[i].get_text() == nbb_unformatted_code) {\n",
       "                             nbb_cells[i].set_text(nbb_formatted_code);\n",
       "                        }\n",
       "                        break;\n",
       "                    }\n",
       "                }\n",
       "            }, 500);\n",
       "            "
      ],
      "text/plain": [
       "<IPython.core.display.Javascript object>"
      ]
     },
     "metadata": {},
     "output_type": "display_data"
    }
   ],
   "source": [
    "def selection(order, couriers):\n",
    "    if order.rapid == 1:\n",
    "        selected_couriers = couriers[couriers.rapid == 1]\n",
    "    else:\n",
    "        selected_couriers = couriers[couriers.rapid == 0]\n",
    "\n",
    "    selected_couriers = selected_couriers[\n",
    "        selected_couriers.allowed_categories == order.order_type\n",
    "    ]\n",
    "    return selected_couriers"
   ]
  },
  {
   "cell_type": "code",
   "execution_count": 27,
   "metadata": {},
   "outputs": [
    {
     "data": {
      "text/html": [
       "<div>\n",
       "<style scoped>\n",
       "    .dataframe tbody tr th:only-of-type {\n",
       "        vertical-align: middle;\n",
       "    }\n",
       "\n",
       "    .dataframe tbody tr th {\n",
       "        vertical-align: top;\n",
       "    }\n",
       "\n",
       "    .dataframe thead th {\n",
       "        text-align: right;\n",
       "    }\n",
       "</style>\n",
       "<table border=\"1\" class=\"dataframe\">\n",
       "  <thead>\n",
       "    <tr style=\"text-align: right;\">\n",
       "      <th></th>\n",
       "      <th>courier_name</th>\n",
       "      <th>phone_number</th>\n",
       "      <th>rating</th>\n",
       "      <th>current_hub</th>\n",
       "      <th>allowed_categories</th>\n",
       "      <th>orders_in_line</th>\n",
       "      <th>rapid</th>\n",
       "      <th>type</th>\n",
       "    </tr>\n",
       "  </thead>\n",
       "  <tbody>\n",
       "    <tr>\n",
       "      <th>8</th>\n",
       "      <td>Анастасия Анастасиева</td>\n",
       "      <td>78373658431</td>\n",
       "      <td>3.693878</td>\n",
       "      <td>2.0</td>\n",
       "      <td>1</td>\n",
       "      <td>0</td>\n",
       "      <td>0</td>\n",
       "      <td>3</td>\n",
       "    </tr>\n",
       "    <tr>\n",
       "      <th>14</th>\n",
       "      <td>Лев Львов</td>\n",
       "      <td>78373658431</td>\n",
       "      <td>4.183673</td>\n",
       "      <td>1.0</td>\n",
       "      <td>1</td>\n",
       "      <td>0</td>\n",
       "      <td>0</td>\n",
       "      <td>1</td>\n",
       "    </tr>\n",
       "    <tr>\n",
       "      <th>16</th>\n",
       "      <td>Владимир Владимиров</td>\n",
       "      <td>78373658431</td>\n",
       "      <td>3.571429</td>\n",
       "      <td>1.0</td>\n",
       "      <td>1</td>\n",
       "      <td>0</td>\n",
       "      <td>0</td>\n",
       "      <td>1</td>\n",
       "    </tr>\n",
       "  </tbody>\n",
       "</table>\n",
       "</div>"
      ],
      "text/plain": [
       "             courier_name  phone_number    rating  current_hub  \\\n",
       "8   Анастасия Анастасиева   78373658431  3.693878          2.0   \n",
       "14              Лев Львов   78373658431  4.183673          1.0   \n",
       "16    Владимир Владимиров   78373658431  3.571429          1.0   \n",
       "\n",
       "    allowed_categories  orders_in_line  rapid  type  \n",
       "8                    1               0      0     3  \n",
       "14                   1               0      0     1  \n",
       "16                   1               0      0     1  "
      ]
     },
     "execution_count": 27,
     "metadata": {},
     "output_type": "execute_result"
    },
    {
     "data": {
      "application/javascript": [
       "\n",
       "            setTimeout(function() {\n",
       "                var nbb_cell_id = 27;\n",
       "                var nbb_unformatted_code = \"selection(orders.loc[0], couriers)\";\n",
       "                var nbb_formatted_code = \"selection(orders.loc[0], couriers)\";\n",
       "                var nbb_cells = Jupyter.notebook.get_cells();\n",
       "                for (var i = 0; i < nbb_cells.length; ++i) {\n",
       "                    if (nbb_cells[i].input_prompt_number == nbb_cell_id) {\n",
       "                        if (nbb_cells[i].get_text() == nbb_unformatted_code) {\n",
       "                             nbb_cells[i].set_text(nbb_formatted_code);\n",
       "                        }\n",
       "                        break;\n",
       "                    }\n",
       "                }\n",
       "            }, 500);\n",
       "            "
      ],
      "text/plain": [
       "<IPython.core.display.Javascript object>"
      ]
     },
     "metadata": {},
     "output_type": "display_data"
    }
   ],
   "source": [
    "selection(orders.loc[0], couriers)"
   ]
  },
  {
   "cell_type": "code",
   "execution_count": null,
   "metadata": {},
   "outputs": [],
   "source": []
  },
  {
   "cell_type": "code",
   "execution_count": null,
   "metadata": {},
   "outputs": [],
   "source": []
  },
  {
   "cell_type": "code",
   "execution_count": null,
   "metadata": {},
   "outputs": [],
   "source": []
  },
  {
   "cell_type": "code",
   "execution_count": null,
   "metadata": {},
   "outputs": [],
   "source": []
  },
  {
   "cell_type": "code",
   "execution_count": null,
   "metadata": {},
   "outputs": [],
   "source": []
  },
  {
   "cell_type": "code",
   "execution_count": 15,
   "metadata": {},
   "outputs": [
    {
     "data": {
      "application/javascript": [
       "\n",
       "            setTimeout(function() {\n",
       "                var nbb_cell_id = 15;\n",
       "                var nbb_unformatted_code = \"import pyltr\";\n",
       "                var nbb_formatted_code = \"import pyltr\";\n",
       "                var nbb_cells = Jupyter.notebook.get_cells();\n",
       "                for (var i = 0; i < nbb_cells.length; ++i) {\n",
       "                    if (nbb_cells[i].input_prompt_number == nbb_cell_id) {\n",
       "                        if (nbb_cells[i].get_text() == nbb_unformatted_code) {\n",
       "                             nbb_cells[i].set_text(nbb_formatted_code);\n",
       "                        }\n",
       "                        break;\n",
       "                    }\n",
       "                }\n",
       "            }, 500);\n",
       "            "
      ],
      "text/plain": [
       "<IPython.core.display.Javascript object>"
      ]
     },
     "metadata": {},
     "output_type": "display_data"
    }
   ],
   "source": [
    "import pyltr"
   ]
  },
  {
   "cell_type": "code",
   "execution_count": 22,
   "metadata": {},
   "outputs": [
    {
     "ename": "TypeError",
     "evalue": "fit() missing 1 required positional argument: 'qids'",
     "output_type": "error",
     "traceback": [
      "\u001b[0;31m---------------------------------------------------------------------------\u001b[0m",
      "\u001b[0;31mTypeError\u001b[0m                                 Traceback (most recent call last)",
      "\u001b[0;32m<ipython-input-22-234b19892370>\u001b[0m in \u001b[0;36m<module>\u001b[0;34m\u001b[0m\n\u001b[1;32m     12\u001b[0m )\n\u001b[1;32m     13\u001b[0m \u001b[0;34m\u001b[0m\u001b[0m\n\u001b[0;32m---> 14\u001b[0;31m \u001b[0mmodel\u001b[0m\u001b[0;34m.\u001b[0m\u001b[0mfit\u001b[0m\u001b[0;34m(\u001b[0m\u001b[0mrapid_orders\u001b[0m\u001b[0;34m,\u001b[0m \u001b[0mrapid_couriers\u001b[0m\u001b[0;34m.\u001b[0m\u001b[0mindex\u001b[0m\u001b[0;34m)\u001b[0m\u001b[0;34m\u001b[0m\u001b[0;34m\u001b[0m\u001b[0m\n\u001b[0m",
      "\u001b[0;31mTypeError\u001b[0m: fit() missing 1 required positional argument: 'qids'"
     ]
    },
    {
     "data": {
      "application/javascript": [
       "\n",
       "            setTimeout(function() {\n",
       "                var nbb_cell_id = 22;\n",
       "                var nbb_unformatted_code = \"metric = pyltr.metrics.NDCG(k=10)\\n\\nmodel = pyltr.models.LambdaMART(\\n    metric=metric,\\n    n_estimators=1000,\\n    learning_rate=0.02,\\n    max_features=0.5,\\n    query_subsample=0.5,\\n    max_leaf_nodes=10,\\n    min_samples_leaf=64,\\n    verbose=1,\\n)\\n\\nmodel.fit(rapid_orders, rapid_couriers.index)\";\n",
       "                var nbb_formatted_code = \"metric = pyltr.metrics.NDCG(k=10)\\n\\nmodel = pyltr.models.LambdaMART(\\n    metric=metric,\\n    n_estimators=1000,\\n    learning_rate=0.02,\\n    max_features=0.5,\\n    query_subsample=0.5,\\n    max_leaf_nodes=10,\\n    min_samples_leaf=64,\\n    verbose=1,\\n)\\n\\nmodel.fit(rapid_orders, rapid_couriers.index)\";\n",
       "                var nbb_cells = Jupyter.notebook.get_cells();\n",
       "                for (var i = 0; i < nbb_cells.length; ++i) {\n",
       "                    if (nbb_cells[i].input_prompt_number == nbb_cell_id) {\n",
       "                        if (nbb_cells[i].get_text() == nbb_unformatted_code) {\n",
       "                             nbb_cells[i].set_text(nbb_formatted_code);\n",
       "                        }\n",
       "                        break;\n",
       "                    }\n",
       "                }\n",
       "            }, 500);\n",
       "            "
      ],
      "text/plain": [
       "<IPython.core.display.Javascript object>"
      ]
     },
     "metadata": {},
     "output_type": "display_data"
    }
   ],
   "source": [
    "metric = pyltr.metrics.NDCG(k=10)\n",
    "\n",
    "model = pyltr.models.LambdaMART(\n",
    "    metric=metric,\n",
    "    n_estimators=1000,\n",
    "    learning_rate=0.02,\n",
    "    max_features=0.5,\n",
    "    query_subsample=0.5,\n",
    "    max_leaf_nodes=10,\n",
    "    min_samples_leaf=64,\n",
    "    verbose=1,\n",
    ")"
   ]
  },
  {
   "cell_type": "code",
   "execution_count": null,
   "metadata": {},
   "outputs": [],
   "source": []
  },
  {
   "cell_type": "code",
   "execution_count": null,
   "metadata": {},
   "outputs": [],
   "source": []
  }
 ],
 "metadata": {
  "kernelspec": {
   "display_name": "Python 3",
   "language": "python",
   "name": "python3"
  },
  "language_info": {
   "codemirror_mode": {
    "name": "ipython",
    "version": 3
   },
   "file_extension": ".py",
   "mimetype": "text/x-python",
   "name": "python",
   "nbconvert_exporter": "python",
   "pygments_lexer": "ipython3",
   "version": "3.7.3"
  }
 },
 "nbformat": 4,
 "nbformat_minor": 2
}
